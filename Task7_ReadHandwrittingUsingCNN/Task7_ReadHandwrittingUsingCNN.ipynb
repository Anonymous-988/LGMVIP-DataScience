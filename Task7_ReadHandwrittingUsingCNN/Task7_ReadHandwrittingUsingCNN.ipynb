{
  "cells": [
    {
      "cell_type": "markdown",
      "source": [
        "<h1>Advanced Level Task</h1>\n",
        "<h2>Task 7: Develop A Neural Network That Can Read Handwriting</h2>\n",
        "\n",
        "<b>Name: Sumant Pujari</b>"
      ],
      "metadata": {
        "id": "_Qtror5dzl-N"
      }
    },
    {
      "cell_type": "code",
      "execution_count": 1,
      "metadata": {
        "id": "epbL4pmZlVOC"
      },
      "outputs": [],
      "source": [
        "#Importing packages\n",
        "import tensorflow as tf\n",
        "import numpy as np\n",
        "from matplotlib import pyplot as plt\n",
        "import seaborn as sns\n",
        "import cv2"
      ]
    },
    {
      "cell_type": "markdown",
      "source": [
        "# Import Dataset from MNIST"
      ],
      "metadata": {
        "id": "ZM8jxAGU0Xzg"
      }
    },
    {
      "cell_type": "code",
      "execution_count": 2,
      "metadata": {
        "colab": {
          "base_uri": "https://localhost:8080/"
        },
        "id": "cu8Vw98tljs4",
        "outputId": "0f652c28-fb35-4017-8663-d66a71a3e45e"
      },
      "outputs": [
        {
          "output_type": "stream",
          "name": "stdout",
          "text": [
            "Downloading data from https://storage.googleapis.com/tensorflow/tf-keras-datasets/mnist.npz\n",
            "11493376/11490434 [==============================] - 0s 0us/step\n",
            "11501568/11490434 [==============================] - 0s 0us/step\n"
          ]
        }
      ],
      "source": [
        "#import dataset\n",
        "(x_train,y_train),(x_test,y_test)=tf.keras.datasets.mnist.load_data()"
      ]
    },
    {
      "cell_type": "markdown",
      "source": [
        "# Data Exploration"
      ],
      "metadata": {
        "id": "ZtZ4DGnO0u4d"
      }
    },
    {
      "cell_type": "code",
      "execution_count": 3,
      "metadata": {
        "colab": {
          "base_uri": "https://localhost:8080/",
          "height": 143
        },
        "id": "j-0A6YAAnr_g",
        "outputId": "b5ea2959-1e10-4649-ce59-0f412fb5192d"
      },
      "outputs": [
        {
          "output_type": "display_data",
          "data": {
            "text/plain": [
              "<Figure size 1440x2160 with 10 Axes>"
            ],
            "image/png": "[encoded data removed]"
          },
          "metadata": {
            "needs_background": "light"
          }
        }
      ],
      "source": [
        "#Dataset properties\n",
        "# Display some images\n",
        "fig, axes = plt.subplots(ncols=10, sharex=False, \n",
        "    sharey=True, figsize=(20, 30))\n",
        "for i in range(10):\n",
        "    axes[i].set_title(y_train[i])\n",
        "    axes[i].imshow(x_train[i], cmap='gray_r')\n",
        "    axes[i].get_xaxis().set_visible(False)\n",
        "    axes[i].get_yaxis().set_visible(False)\n",
        "plt.show()"
      ]
    },
    {
      "cell_type": "code",
      "execution_count": 4,
      "metadata": {
        "colab": {
          "base_uri": "https://localhost:8080/",
          "height": 555
        },
        "id": "1KW_qQKJlyI4",
        "outputId": "e24d7f7e-579b-4376-cb42-74169fbc860c"
      },
      "outputs": [
        {
          "output_type": "stream",
          "name": "stderr",
          "text": [
            "/usr/local/lib/python3.7/dist-packages/seaborn/_decorators.py:43: FutureWarning: Pass the following variable as a keyword arg: x. From version 0.12, the only valid positional argument will be `data`, and passing other arguments without an explicit keyword will result in an error or misinterpretation.\n",
            "  FutureWarning\n"
          ]
        },
        {
          "output_type": "execute_result",
          "data": {
            "text/plain": [
              "<matplotlib.axes._subplots.AxesSubplot at 0x7faebd5db990>"
            ]
          },
          "metadata": {},
          "execution_count": 4
        },
        {
          "output_type": "display_data",
          "data": {
            "text/plain": [
              "<Figure size 720x576 with 1 Axes>"
            ],
            "image/png": "[encoded data removed]"
          },
          "metadata": {
            "needs_background": "light"
          }
        }
      ],
      "source": [
        "# number of images for each digit\n",
        "plt.figure(figsize = (10,8))\n",
        "sns.countplot(y_train)"
      ]
    },
    {
      "cell_type": "code",
      "execution_count": 5,
      "metadata": {
        "colab": {
          "base_uri": "https://localhost:8080/"
        },
        "id": "odCEIz-pl883",
        "outputId": "56371a01-969e-471f-a834-aa3be243630f"
      },
      "outputs": [
        {
          "output_type": "stream",
          "name": "stdout",
          "text": [
            "Size of training set of X: (60000, 28, 28)\n",
            "Size of testing set of X: (10000, 28, 28)\n",
            "Size of training set of y: (60000,)\n",
            "Size of testing set of y: (10000,)\n"
          ]
        }
      ],
      "source": [
        "# Dataset Size\n",
        "print(\"Size of training set of X:\",x_train.shape)\n",
        "print(\"Size of testing set of X:\",x_test.shape)\n",
        "print(\"Size of training set of y:\",y_train.shape)\n",
        "print(\"Size of testing set of y:\",y_test.shape)"
      ]
    },
    {
      "cell_type": "markdown",
      "source": [
        "# Pre-processing Data"
      ],
      "metadata": {
        "id": "W7mVVxrj1LA_"
      }
    },
    {
      "cell_type": "code",
      "execution_count": 6,
      "metadata": {
        "id": "YMzXsHRgn812"
      },
      "outputs": [],
      "source": [
        "# reshape datasets to further analysis\n",
        "x_train = x_train.reshape(x_train.shape[0], 28, 28, 1)\n",
        "x_test = x_test.reshape(x_test.shape[0], 28, 28, 1)\n",
        "input_shape = (28, 28, 1)"
      ]
    },
    {
      "cell_type": "code",
      "execution_count": 7,
      "metadata": {
        "colab": {
          "base_uri": "https://localhost:8080/"
        },
        "id": "xpb3GTiMr0zw",
        "outputId": "67352962-e886-4aae-cbf4-c7c19d14fa5c"
      },
      "outputs": [
        {
          "output_type": "stream",
          "name": "stdout",
          "text": [
            "New Size of training set of X: (60000, 28, 28, 1)\n",
            "New Size of testing set of X: (10000, 28, 28, 1)\n"
          ]
        }
      ],
      "source": [
        "# new Size of datasets\n",
        "print(\"New Size of training set of X:\",x_train.shape)\n",
        "print(\"New Size of testing set of X:\",x_test.shape)"
      ]
    },
    {
      "cell_type": "code",
      "execution_count": 8,
      "metadata": {
        "id": "7Cuh_o8Xr7p_"
      },
      "outputs": [],
      "source": [
        "#dataset normalization\n",
        "x_train=x_train/255.0\n",
        "x_test=x_test/255.0\n",
        "num_classes = 10"
      ]
    },
    {
      "cell_type": "markdown",
      "source": [
        "# Building CNN model"
      ],
      "metadata": {
        "id": "igR0wqxr1ST0"
      }
    },
    {
      "cell_type": "code",
      "execution_count": 9,
      "metadata": {
        "id": "R59nUcAcsFlu"
      },
      "outputs": [],
      "source": [
        "# import required libraries\n",
        "from tensorflow.keras.models import Sequential\n",
        "from tensorflow.keras.layers import Dense, Dropout, Flatten,Activation\n",
        "from tensorflow.keras.layers import Conv2D,MaxPooling2D\n",
        "from tensorflow.keras.layers import BatchNormalization"
      ]
    },
    {
      "cell_type": "markdown",
      "source": [
        "**<h2>Model Architecture</h2>**\n",
        "To increase CNN model accuracy based on the current dataset we are going add the following layers:\n",
        "<li><b>Conv2D :</b> for the convolution layers\n",
        "<li><b>Dropout :</b> to prevent overfitting\n",
        "<li><b>Dense :</b> a fully connected layer\n",
        "<li><b>Softmax activation :</b> This is used to get probability of accuracy which will be helpful optimal performance of the model.\n",
        "\n",
        "**This model is going to have: CNN + Three layers + relu + (3,3) kernel_size + Dropout rate (0.3)**"
      ],
      "metadata": {
        "id": "_t1PSf2N2c4G"
      }
    },
    {
      "cell_type": "code",
      "execution_count": 10,
      "metadata": {
        "id": "bmOmLR9DsQ5O"
      },
      "outputs": [],
      "source": [
        "# intialize model to sequential type\n",
        "model = Sequential()\n",
        "\n",
        "# adding layers to the model\n",
        "model.add(Conv2D(128, kernel_size=(3, 3),\n",
        "                 activation=tf.nn.relu,\n",
        "                 input_shape=input_shape))\n",
        "model.add(BatchNormalization())\n",
        "model.add(Dropout(0.3))\n",
        "\n",
        "model.add(Conv2D(64, (3, 3), activation=tf.nn.relu))\n",
        "model.add(BatchNormalization())\n",
        "model.add(Dropout(0.3))\n",
        "\n",
        "model.add(Conv2D(32, (3, 3), activation=tf.nn.relu))\n",
        "model.add(BatchNormalization())\n",
        "model.add(Dropout(0.3))\n",
        "\n",
        "\n",
        "model.add(MaxPooling2D(pool_size=(2, 2)))\n",
        "model.add(Dropout(0.3))\n",
        "model.add(Flatten())\n",
        "model.add(Dense(128, activation=tf.nn.relu))\n",
        "model.add(Dropout(0.3))\n",
        "model.add(Dense(num_classes, activation=tf.nn.softmax))"
      ]
    },
    {
      "cell_type": "code",
      "execution_count": 11,
      "metadata": {
        "colab": {
          "base_uri": "https://localhost:8080/"
        },
        "id": "YQWgDAvzsS_w",
        "outputId": "07b6ad0d-c8bd-4053-bd99-06f641728aa2"
      },
      "outputs": [
        {
          "output_type": "stream",
          "name": "stdout",
          "text": [
            "Model: \"sequential\"\n",
            "_________________________________________________________________\n",
            " Layer (type)                Output Shape              Param #   \n",
            "=================================================================\n",
            " conv2d (Conv2D)             (None, 26, 26, 128)       1280      \n",
            "                                                                 \n",
            " batch_normalization (BatchN  (None, 26, 26, 128)      512       \n",
            " ormalization)                                                   \n",
            "                                                                 \n",
            " dropout (Dropout)           (None, 26, 26, 128)       0         \n",
            "                                                                 \n",
            " conv2d_1 (Conv2D)           (None, 24, 24, 64)        73792     \n",
            "                                                                 \n",
            " batch_normalization_1 (Batc  (None, 24, 24, 64)       256       \n",
            " hNormalization)                                                 \n",
            "                                                                 \n",
            " dropout_1 (Dropout)         (None, 24, 24, 64)        0         \n",
            "                                                                 \n",
            " conv2d_2 (Conv2D)           (None, 22, 22, 32)        18464     \n",
            "                                                                 \n",
            " batch_normalization_2 (Batc  (None, 22, 22, 32)       128       \n",
            " hNormalization)                                                 \n",
            "                                                                 \n",
            " dropout_2 (Dropout)         (None, 22, 22, 32)        0         \n",
            "                                                                 \n",
            " max_pooling2d (MaxPooling2D  (None, 11, 11, 32)       0         \n",
            " )                                                               \n",
            "                                                                 \n",
            " dropout_3 (Dropout)         (None, 11, 11, 32)        0         \n",
            "                                                                 \n",
            " flatten (Flatten)           (None, 3872)              0         \n",
            "                                                                 \n",
            " dense (Dense)               (None, 128)               495744    \n",
            "                                                                 \n",
            " dropout_4 (Dropout)         (None, 128)               0         \n",
            "                                                                 \n",
            " dense_1 (Dense)             (None, 10)                1290      \n",
            "                                                                 \n",
            "=================================================================\n",
            "Total params: 591,466\n",
            "Trainable params: 591,018\n",
            "Non-trainable params: 448\n",
            "_________________________________________________________________\n"
          ]
        }
      ],
      "source": [
        "# model description\n",
        "model.summary()"
      ]
    },
    {
      "cell_type": "markdown",
      "source": [
        "# Training the CNN model"
      ],
      "metadata": {
        "id": "zWvGoFtI179A"
      }
    },
    {
      "cell_type": "code",
      "execution_count": 12,
      "metadata": {
        "colab": {
          "base_uri": "https://localhost:8080/"
        },
        "id": "CZPGVLJusVFM",
        "outputId": "af4d2fc0-f9fb-4b9a-a624-4f78cfdba735"
      },
      "outputs": [
        {
          "output_type": "stream",
          "name": "stdout",
          "text": [
            "Epoch 1/10\n",
            "1688/1688 [==============================] - 771s 456ms/step - loss: 0.2461 - accuracy: 0.9281 - val_loss: 0.0947 - val_accuracy: 0.9808\n",
            "Epoch 2/10\n",
            "1688/1688 [==============================] - 748s 443ms/step - loss: 0.1056 - accuracy: 0.9698 - val_loss: 0.1032 - val_accuracy: 0.9810\n",
            "Epoch 3/10\n",
            "1688/1688 [==============================] - 745s 441ms/step - loss: 0.0867 - accuracy: 0.9746 - val_loss: 0.1113 - val_accuracy: 0.9808\n",
            "Epoch 4/10\n",
            "1688/1688 [==============================] - 728s 431ms/step - loss: 0.0710 - accuracy: 0.9795 - val_loss: 0.1063 - val_accuracy: 0.9843\n",
            "Epoch 5/10\n",
            "1688/1688 [==============================] - 726s 430ms/step - loss: 0.0624 - accuracy: 0.9817 - val_loss: 0.1199 - val_accuracy: 0.9823\n",
            "Epoch 6/10\n",
            "1688/1688 [==============================] - 729s 432ms/step - loss: 0.0567 - accuracy: 0.9830 - val_loss: 0.1675 - val_accuracy: 0.9790\n",
            "Epoch 7/10\n",
            "1688/1688 [==============================] - 735s 435ms/step - loss: 0.0495 - accuracy: 0.9853 - val_loss: 0.1276 - val_accuracy: 0.9822\n",
            "Epoch 8/10\n",
            "1688/1688 [==============================] - 738s 437ms/step - loss: 0.0436 - accuracy: 0.9871 - val_loss: 0.1102 - val_accuracy: 0.9833\n",
            "Epoch 9/10\n",
            "1688/1688 [==============================] - 736s 436ms/step - loss: 0.0416 - accuracy: 0.9879 - val_loss: 0.1143 - val_accuracy: 0.9852\n",
            "Epoch 10/10\n",
            "1688/1688 [==============================] - 738s 437ms/step - loss: 0.0395 - accuracy: 0.9881 - val_loss: 0.1104 - val_accuracy: 0.9855\n"
          ]
        }
      ],
      "source": [
        "# Train the model\n",
        "\n",
        "model.compile(optimizer='adam', \n",
        "              loss='sparse_categorical_crossentropy', \n",
        "              metrics=['accuracy'])\n",
        "history=model.fit(x=x_train,\n",
        "                  y=y_train,\n",
        "                  validation_split=0.1,\n",
        "                  epochs=10)"
      ]
    },
    {
      "cell_type": "code",
      "execution_count": 13,
      "metadata": {
        "id": "vLTh6SCcsamL"
      },
      "outputs": [],
      "source": [
        "# save model for future use\n",
        "model.save('CNNmodel.h5')"
      ]
    },
    {
      "cell_type": "markdown",
      "source": [
        "# Evaluating the CNN model "
      ],
      "metadata": {
        "id": "7GpF4sj-2HbP"
      }
    },
    {
      "cell_type": "code",
      "execution_count": 14,
      "metadata": {
        "id": "x6jcg0zEt3JO"
      },
      "outputs": [],
      "source": [
        "from tensorflow.keras.models import load_model\n",
        "# load model from current working directory\n",
        "model = load_model('/content/CNNmodel.h5')"
      ]
    },
    {
      "cell_type": "code",
      "execution_count": 15,
      "metadata": {
        "colab": {
          "base_uri": "https://localhost:8080/"
        },
        "id": "P2HAfFUNsiMN",
        "outputId": "3db72c62-ac1f-4255-d0d5-dbc7a5bd5bf5"
      },
      "outputs": [
        {
          "output_type": "stream",
          "name": "stdout",
          "text": [
            "313/313 [==============================] - 27s 86ms/step - loss: 0.1014 - accuracy: 0.9833\n",
            "Test Loss 0.10137544572353363\n",
            "Test Accuracy 0.983299970626831\n"
          ]
        }
      ],
      "source": [
        "# Evaluate the model\n",
        "loss_and_acc=model.evaluate(x_test,y_test)\n",
        "print(\"Test Loss\", loss_and_acc[0])\n",
        "print(\"Test Accuracy\", loss_and_acc[1])"
      ]
    },
    {
      "cell_type": "markdown",
      "source": [
        "# Plotting Training and Validation accuracy"
      ],
      "metadata": {
        "id": "Q1l12pU54YGM"
      }
    },
    {
      "cell_type": "code",
      "execution_count": 19,
      "metadata": {
        "id": "S937TvBpsi2R",
        "colab": {
          "base_uri": "https://localhost:8080/",
          "height": 401
        },
        "outputId": "57c3a4e4-04cd-41db-a40d-7708ba1e7bbb"
      },
      "outputs": [
        {
          "output_type": "display_data",
          "data": {
            "text/plain": [
              "<Figure size 1440x432 with 2 Axes>"
            ],
            "image/png": "[encoded data removed]"
          },
          "metadata": {
            "needs_background": "light"
          }
        }
      ],
      "source": [
        "acc = history.history['accuracy']\n",
        "val_acc = history.history['val_accuracy']\n",
        "loss = history.history['loss']\n",
        "val_loss = history.history['val_loss']\n",
        "epochs = range(len(acc))\n",
        "\n",
        "fig, ax = plt.subplots(nrows=1, ncols=2, figsize=(20, 6))\n",
        "ax[0].plot(epochs, acc, 'y', label='Training accuracy')\n",
        "ax[0].plot(epochs, val_acc, 'g', label='Validation accuracy')\n",
        "ax[0].legend(loc=0)\n",
        "ax[1].plot(epochs, loss, 'y', label='Training loss')\n",
        "ax[1].plot(epochs, val_loss, 'g', label='Validation loss')\n",
        "ax[1].legend(loc=0)\n",
        "\n",
        "plt.suptitle('Training and validation')\n",
        "plt.show()"
      ]
    },
    {
      "cell_type": "code",
      "execution_count": 20,
      "metadata": {
        "id": "4qWQEtBOsmdk",
        "colab": {
          "base_uri": "https://localhost:8080/",
          "height": 459
        },
        "outputId": "c7595dc1-48f0-41c1-ee65-4adce932e1ed"
      },
      "outputs": [
        {
          "output_type": "execute_result",
          "data": {
            "text/plain": [
              "Text(69.0, 0.5, 'Truth')"
            ]
          },
          "metadata": {},
          "execution_count": 20
        },
        {
          "output_type": "display_data",
          "data": {
            "text/plain": [
              "<Figure size 720x504 with 2 Axes>"
            ],
            "image/png": "[encoded data removed]"
          },
          "metadata": {
            "needs_background": "light"
          }
        }
      ],
      "source": [
        "# Confusion Matrix\n",
        "y_predicted = model.predict(x_test)\n",
        "y_predicted_labels = [np.argmax(i) for i in y_predicted]\n",
        "confuse_mat = tf.math.confusion_matrix(labels=y_test,predictions=y_predicted_labels)\n",
        "plt.figure(figsize = (10,7))\n",
        "sns.heatmap(confuse_mat, annot=True, fmt='d', cmap = 'coolwarm')\n",
        "plt.xlabel('Predicted')\n",
        "plt.ylabel('Truth')"
      ]
    },
    {
      "cell_type": "markdown",
      "source": [
        "# Testing The CNN model"
      ],
      "metadata": {
        "id": "RscSrHNw42hT"
      }
    },
    {
      "cell_type": "code",
      "execution_count": 18,
      "metadata": {
        "id": "V8-0YoO6tFB1",
        "colab": {
          "base_uri": "https://localhost:8080/",
          "height": 1000
        },
        "outputId": "7235ccc3-90fd-4fab-faa3-59c2e12c9b0d"
      },
      "outputs": [
        {
          "metadata": {
            "tags": null
          },
          "name": "stdout",
          "output_type": "stream",
          "text": [
            "Predicted Value:  5\n"
          ]
        },
        {
          "data": {
            "image/png": "[encoded data removed]",
            "text/plain": [
              "<Figure size 432x288 with 1 Axes>"
            ]
          },
          "metadata": {},
          "output_type": "display_data"
        },
        {
          "metadata": {
            "tags": null
          },
          "name": "stdout",
          "output_type": "stream",
          "text": [
            "Successful prediction\n",
            "──────────────────────────────────────────────────────────────────────────────────────────────────── \n",
            "\n",
            "Predicted Value:  3\n"
          ]
        },
        {
          "data": {
            "image/png": "[encoded data removed]",
            "text/plain": [
              "<Figure size 432x288 with 1 Axes>"
            ]
          },
          "metadata": {},
          "output_type": "display_data"
        },
        {
          "metadata": {
            "tags": null
          },
          "name": "stdout",
          "output_type": "stream",
          "text": [
            "Successful prediction\n",
            "──────────────────────────────────────────────────────────────────────────────────────────────────── \n",
            "\n",
            "Predicted Value:  2\n"
          ]
        },
        {
          "data": {
            "image/png": "[encoded data removed]",
            "text/plain": [
              "<Figure size 432x288 with 1 Axes>"
            ]
          },
          "metadata": {},
          "output_type": "display_data"
        },
        {
          "metadata": {
            "tags": null
          },
          "name": "stdout",
          "output_type": "stream",
          "text": [
            "Successful prediction\n",
            "──────────────────────────────────────────────────────────────────────────────────────────────────── \n",
            "\n",
            "Predicted Value:  6\n"
          ]
        },
        {
          "data": {
            "image/png": "[encoded data removed]",
            "text/plain": [
              "<Figure size 432x288 with 1 Axes>"
            ]
          },
          "metadata": {},
          "output_type": "display_data"
        },
        {
          "metadata": {
            "tags": null
          },
          "name": "stdout",
          "output_type": "stream",
          "text": [
            "Successful prediction\n",
            "──────────────────────────────────────────────────────────────────────────────────────────────────── \n",
            "\n",
            "Predicted Value:  0\n"
          ]
        },
        {
          "data": {
            "image/png": "[encoded data removed]",
            "text/plain": [
              "<Figure size 432x288 with 1 Axes>"
            ]
          },
          "metadata": {},
          "output_type": "display_data"
        },
        {
          "metadata": {
            "tags": null
          },
          "name": "stdout",
          "output_type": "stream",
          "text": [
            "Successful prediction\n",
            "──────────────────────────────────────────────────────────────────────────────────────────────────── \n",
            "\n"
          ]
        }
      ],
      "source": [
        "# Testing the Model\n",
        "\n",
        "#reshape the original test set\n",
        "x_test = x_test.reshape(x_test.shape[0], 28, 28)\n",
        "\n",
        "\n",
        "import random\n",
        "for i in range(5):\n",
        "  index=random.randint(0,len(x_test)-1)\n",
        "  plt.imshow(x_test[index],cmap='gray_r')\n",
        "  plt.title('Actual Value: {}'.format(y_test[index]))\n",
        "  prediction=model.predict(x_test)\n",
        "  plt.axis('off')\n",
        "  print('Predicted Value: ',np.argmax(prediction[index]))\n",
        "  plt.show()\n",
        "  if(y_test[index]==(np.argmax(prediction[index]))):\n",
        "    print('Successful prediction')\n",
        "  else:\n",
        "    print('Unsuccessful prediction')\n",
        "  print(u'\\u2500' * 100,'\\n')\n"
      ]
    },
    {
      "cell_type": "markdown",
      "source": [
        "<b>Conclusion : </b><br>\n",
        "<li> An optimal CNN model is developed to read handwritting.\n",
        "<li> The accuracy of model can increased by adding layers or modifying current layer parameters.\n",
        "<li> Accuracy also depends on the factors like dataset, training set, batch size, epochs, etc."
      ],
      "metadata": {
        "id": "oY-jVK_X46TA"
      }
    }
  ],
  "metadata": {
    "colab": {
      "name": "Task7-ReadHandwrittingUsingCNN.ipynb",
      "provenance": [],
      "collapsed_sections": []
    },
    "kernelspec": {
      "display_name": "Python 3",
      "name": "python3"
    },
    "language_info": {
      "name": "python"
    }
  },
  "nbformat": 4,
  "nbformat_minor": 0
}
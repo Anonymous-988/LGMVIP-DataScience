{
  "nbformat": 4,
  "nbformat_minor": 0,
  "metadata": {
    "colab": {
      "name": "Task2-StockMarketPrediction.ipynb",
      "provenance": [],
      "collapsed_sections": []
    },
    "kernelspec": {
      "name": "python3",
      "display_name": "Python 3"
    },
    "language_info": {
      "name": "python"
    },
    "accelerator": "GPU",
    "gpuClass": "standard"
  },
  "cells": [
    {
      "cell_type": "markdown",
      "source": [
        "<h1> Beginner Level Task</h1>\n",
        "<h2> Task2: Stock Market Prediction And Forecasting Using Stacked LSTM</h2>\n",
        "<b>Name: Sumant Pujari</b>"
      ],
      "metadata": {
        "id": "Pngy8kN_9CWY"
      }
    },
    {
      "cell_type": "code",
      "execution_count": 137,
      "metadata": {
        "id": "9ivWXaQg10ub"
      },
      "outputs": [],
      "source": [
        "#import required libraries\n",
        "\n",
        "import math\n",
        "import numpy as np\n",
        "import pandas as pd\n",
        "import tensorflow as tf\n",
        "import pandas_datareader as pdr\n",
        "import matplotlib.pyplot as plt"
      ]
    },
    {
      "cell_type": "markdown",
      "source": [
        "# Import Dataset From Drive"
      ],
      "metadata": {
        "id": "wT_WDqwE_hlD"
      }
    },
    {
      "cell_type": "code",
      "source": [
        "data = pd.read_csv(\"/content/drive/MyDrive/Data_Science/Datasets/StockMarket/NSE-TATAGLOBAL.csv\")"
      ],
      "metadata": {
        "id": "DYPh9Qyr4L7u"
      },
      "execution_count": 138,
      "outputs": []
    },
    {
      "cell_type": "code",
      "source": [
        "# print dataset\n",
        "data"
      ],
      "metadata": {
        "colab": {
          "base_uri": "https://localhost:8080/",
          "height": 424
        },
        "id": "5ZV44FwI9-zl",
        "outputId": "4aa435fa-efb1-4fca-fa60-f3e9f22b8723"
      },
      "execution_count": 139,
      "outputs": [
        {
          "output_type": "execute_result",
          "data": {
            "text/plain": [
              "            Date    Open    High     Low    Last   Close  \\\n",
              "0     2018-09-28  234.05  235.95  230.20  233.50  233.75   \n",
              "1     2018-09-27  234.55  236.80  231.10  233.80  233.25   \n",
              "2     2018-09-26  240.00  240.00  232.50  235.00  234.25   \n",
              "3     2018-09-25  233.30  236.75  232.00  236.25  236.10   \n",
              "4     2018-09-24  233.55  239.20  230.75  234.00  233.30   \n",
              "...          ...     ...     ...     ...     ...     ...   \n",
              "2030  2010-07-27  117.60  119.50  112.00  118.80  118.65   \n",
              "2031  2010-07-26  120.10  121.00  117.10  117.10  117.60   \n",
              "2032  2010-07-23  121.80  121.95  120.25  120.35  120.65   \n",
              "2033  2010-07-22  120.30  122.00  120.25  120.75  120.90   \n",
              "2034  2010-07-21  122.10  123.00  121.05  121.10  121.55   \n",
              "\n",
              "      Total Trade Quantity  Turnover (Lacs)  \n",
              "0                  3069914          7162.35  \n",
              "1                  5082859         11859.95  \n",
              "2                  2240909          5248.60  \n",
              "3                  2349368          5503.90  \n",
              "4                  3423509          7999.55  \n",
              "...                    ...              ...  \n",
              "2030                586100           694.98  \n",
              "2031                658440           780.01  \n",
              "2032                281312           340.31  \n",
              "2033                293312           355.17  \n",
              "2034                658666           803.56  \n",
              "\n",
              "[2035 rows x 8 columns]"
            ],
            "text/html": [
              "\n",
              "  <div id=\"df-5f6101f9-00da-45a2-a5fe-8e94a2f32723\">\n",
              "    <div class=\"colab-df-container\">\n",
              "      <div>\n",
              "<style scoped>\n",
              "    .dataframe tbody tr th:only-of-type {\n",
              "        vertical-align: middle;\n",
              "    }\n",
              "\n",
              "    .dataframe tbody tr th {\n",
              "        vertical-align: top;\n",
              "    }\n",
              "\n",
              "    .dataframe thead th {\n",
              "        text-align: right;\n",
              "    }\n",
              "</style>\n",
              "<table border=\"1\" class=\"dataframe\">\n",
              "  <thead>\n",
              "    <tr style=\"text-align: right;\">\n",
              "      <th></th>\n",
              "      <th>Date</th>\n",
              "      <th>Open</th>\n",
              "      <th>High</th>\n",
              "      <th>Low</th>\n",
              "      <th>Last</th>\n",
              "      <th>Close</th>\n",
              "      <th>Total Trade Quantity</th>\n",
              "      <th>Turnover (Lacs)</th>\n",
              "    </tr>\n",
              "  </thead>\n",
              "  <tbody>\n",
              "    <tr>\n",
              "      <th>0</th>\n",
              "      <td>2018-09-28</td>\n",
              "      <td>234.05</td>\n",
              "      <td>235.95</td>\n",
              "      <td>230.20</td>\n",
              "      <td>233.50</td>\n",
              "      <td>233.75</td>\n",
              "      <td>3069914</td>\n",
              "      <td>7162.35</td>\n",
              "    </tr>\n",
              "    <tr>\n",
              "      <th>1</th>\n",
              "      <td>2018-09-27</td>\n",
              "      <td>234.55</td>\n",
              "      <td>236.80</td>\n",
              "      <td>231.10</td>\n",
              "      <td>233.80</td>\n",
              "      <td>233.25</td>\n",
              "      <td>5082859</td>\n",
              "      <td>11859.95</td>\n",
              "    </tr>\n",
              "    <tr>\n",
              "      <th>2</th>\n",
              "      <td>2018-09-26</td>\n",
              "      <td>240.00</td>\n",
              "      <td>240.00</td>\n",
              "      <td>232.50</td>\n",
              "      <td>235.00</td>\n",
              "      <td>234.25</td>\n",
              "      <td>2240909</td>\n",
              "      <td>5248.60</td>\n",
              "    </tr>\n",
              "    <tr>\n",
              "      <th>3</th>\n",
              "      <td>2018-09-25</td>\n",
              "      <td>233.30</td>\n",
              "      <td>236.75</td>\n",
              "      <td>232.00</td>\n",
              "      <td>236.25</td>\n",
              "      <td>236.10</td>\n",
              "      <td>2349368</td>\n",
              "      <td>5503.90</td>\n",
              "    </tr>\n",
              "    <tr>\n",
              "      <th>4</th>\n",
              "      <td>2018-09-24</td>\n",
              "      <td>233.55</td>\n",
              "      <td>239.20</td>\n",
              "      <td>230.75</td>\n",
              "      <td>234.00</td>\n",
              "      <td>233.30</td>\n",
              "      <td>3423509</td>\n",
              "      <td>7999.55</td>\n",
              "    </tr>\n",
              "    <tr>\n",
              "      <th>...</th>\n",
              "      <td>...</td>\n",
              "      <td>...</td>\n",
              "      <td>...</td>\n",
              "      <td>...</td>\n",
              "      <td>...</td>\n",
              "      <td>...</td>\n",
              "      <td>...</td>\n",
              "      <td>...</td>\n",
              "    </tr>\n",
              "    <tr>\n",
              "      <th>2030</th>\n",
              "      <td>2010-07-27</td>\n",
              "      <td>117.60</td>\n",
              "      <td>119.50</td>\n",
              "      <td>112.00</td>\n",
              "      <td>118.80</td>\n",
              "      <td>118.65</td>\n",
              "      <td>586100</td>\n",
              "      <td>694.98</td>\n",
              "    </tr>\n",
              "    <tr>\n",
              "      <th>2031</th>\n",
              "      <td>2010-07-26</td>\n",
              "      <td>120.10</td>\n",
              "      <td>121.00</td>\n",
              "      <td>117.10</td>\n",
              "      <td>117.10</td>\n",
              "      <td>117.60</td>\n",
              "      <td>658440</td>\n",
              "      <td>780.01</td>\n",
              "    </tr>\n",
              "    <tr>\n",
              "      <th>2032</th>\n",
              "      <td>2010-07-23</td>\n",
              "      <td>121.80</td>\n",
              "      <td>121.95</td>\n",
              "      <td>120.25</td>\n",
              "      <td>120.35</td>\n",
              "      <td>120.65</td>\n",
              "      <td>281312</td>\n",
              "      <td>340.31</td>\n",
              "    </tr>\n",
              "    <tr>\n",
              "      <th>2033</th>\n",
              "      <td>2010-07-22</td>\n",
              "      <td>120.30</td>\n",
              "      <td>122.00</td>\n",
              "      <td>120.25</td>\n",
              "      <td>120.75</td>\n",
              "      <td>120.90</td>\n",
              "      <td>293312</td>\n",
              "      <td>355.17</td>\n",
              "    </tr>\n",
              "    <tr>\n",
              "      <th>2034</th>\n",
              "      <td>2010-07-21</td>\n",
              "      <td>122.10</td>\n",
              "      <td>123.00</td>\n",
              "      <td>121.05</td>\n",
              "      <td>121.10</td>\n",
              "      <td>121.55</td>\n",
              "      <td>658666</td>\n",
              "      <td>803.56</td>\n",
              "    </tr>\n",
              "  </tbody>\n",
              "</table>\n",
              "<p>2035 rows × 8 columns</p>\n",
              "</div>\n",
              "      <button class=\"colab-df-convert\" onclick=\"convertToInteractive('df-5f6101f9-00da-45a2-a5fe-8e94a2f32723')\"\n",
              "              title=\"Convert this dataframe to an interactive table.\"\n",
              "              style=\"display:none;\">\n",
              "        \n",
              "  <svg xmlns=\"http://www.w3.org/2000/svg\" height=\"24px\"viewBox=\"0 0 24 24\"\n",
              "       width=\"24px\">\n",
              "    <path d=\"M0 0h24v24H0V0z\" fill=\"none\"/>\n",
              "    <path d=\"M18.56 5.44l.94 2.06.94-2.06 2.06-.94-2.06-.94-.94-2.06-.94 2.06-2.06.94zm-11 1L8.5 8.5l.94-2.06 2.06-.94-2.06-.94L8.5 2.5l-.94 2.06-2.06.94zm10 10l.94 2.06.94-2.06 2.06-.94-2.06-.94-.94-2.06-.94 2.06-2.06.94z\"/><path d=\"M17.41 7.96l-1.37-1.37c-.4-.4-.92-.59-1.43-.59-.52 0-1.04.2-1.43.59L10.3 9.45l-7.72 7.72c-.78.78-.78 2.05 0 2.83L4 21.41c.39.39.9.59 1.41.59.51 0 1.02-.2 1.41-.59l7.78-7.78 2.81-2.81c.8-.78.8-2.07 0-2.86zM5.41 20L4 18.59l7.72-7.72 1.47 1.35L5.41 20z\"/>\n",
              "  </svg>\n",
              "      </button>\n",
              "      \n",
              "  <style>\n",
              "    .colab-df-container {\n",
              "      display:flex;\n",
              "      flex-wrap:wrap;\n",
              "      gap: 12px;\n",
              "    }\n",
              "\n",
              "    .colab-df-convert {\n",
              "      background-color: #E8F0FE;\n",
              "      border: none;\n",
              "      border-radius: 50%;\n",
              "      cursor: pointer;\n",
              "      display: none;\n",
              "      fill: #1967D2;\n",
              "      height: 32px;\n",
              "      padding: 0 0 0 0;\n",
              "      width: 32px;\n",
              "    }\n",
              "\n",
              "    .colab-df-convert:hover {\n",
              "      background-color: #E2EBFA;\n",
              "      box-shadow: 0px 1px 2px rgba(60, 64, 67, 0.3), 0px 1px 3px 1px rgba(60, 64, 67, 0.15);\n",
              "      fill: #174EA6;\n",
              "    }\n",
              "\n",
              "    [theme=dark] .colab-df-convert {\n",
              "      background-color: #3B4455;\n",
              "      fill: #D2E3FC;\n",
              "    }\n",
              "\n",
              "    [theme=dark] .colab-df-convert:hover {\n",
              "      background-color: #434B5C;\n",
              "      box-shadow: 0px 1px 3px 1px rgba(0, 0, 0, 0.15);\n",
              "      filter: drop-shadow(0px 1px 2px rgba(0, 0, 0, 0.3));\n",
              "      fill: #FFFFFF;\n",
              "    }\n",
              "  </style>\n",
              "\n",
              "      <script>\n",
              "        const buttonEl =\n",
              "          document.querySelector('#df-5f6101f9-00da-45a2-a5fe-8e94a2f32723 button.colab-df-convert');\n",
              "        buttonEl.style.display =\n",
              "          google.colab.kernel.accessAllowed ? 'block' : 'none';\n",
              "\n",
              "        async function convertToInteractive(key) {\n",
              "          const element = document.querySelector('#df-5f6101f9-00da-45a2-a5fe-8e94a2f32723');\n",
              "          const dataTable =\n",
              "            await google.colab.kernel.invokeFunction('convertToInteractive',\n",
              "                                                     [key], {});\n",
              "          if (!dataTable) return;\n",
              "\n",
              "          const docLinkHtml = 'Like what you see? Visit the ' +\n",
              "            '<a target=\"_blank\" href=https://colab.research.google.com/notebooks/data_table.ipynb>data table notebook</a>'\n",
              "            + ' to learn more about interactive tables.';\n",
              "          element.innerHTML = '';\n",
              "          dataTable['output_type'] = 'display_data';\n",
              "          await google.colab.output.renderOutput(dataTable, element);\n",
              "          const docLink = document.createElement('div');\n",
              "          docLink.innerHTML = docLinkHtml;\n",
              "          element.appendChild(docLink);\n",
              "        }\n",
              "      </script>\n",
              "    </div>\n",
              "  </div>\n",
              "  "
            ]
          },
          "metadata": {},
          "execution_count": 139
        }
      ]
    },
    {
      "cell_type": "code",
      "source": [
        "# explore dataset\n",
        "data.head()"
      ],
      "metadata": {
        "colab": {
          "base_uri": "https://localhost:8080/",
          "height": 206
        },
        "id": "nrLLc5AA4L-P",
        "outputId": "883b2a55-b4c6-4e68-ab34-180728d8fa6f"
      },
      "execution_count": 140,
      "outputs": [
        {
          "output_type": "execute_result",
          "data": {
            "text/plain": [
              "         Date    Open    High     Low    Last   Close  Total Trade Quantity  \\\n",
              "0  2018-09-28  234.05  235.95  230.20  233.50  233.75               3069914   \n",
              "1  2018-09-27  234.55  236.80  231.10  233.80  233.25               5082859   \n",
              "2  2018-09-26  240.00  240.00  232.50  235.00  234.25               2240909   \n",
              "3  2018-09-25  233.30  236.75  232.00  236.25  236.10               2349368   \n",
              "4  2018-09-24  233.55  239.20  230.75  234.00  233.30               3423509   \n",
              "\n",
              "   Turnover (Lacs)  \n",
              "0          7162.35  \n",
              "1         11859.95  \n",
              "2          5248.60  \n",
              "3          5503.90  \n",
              "4          7999.55  "
            ],
            "text/html": [
              "\n",
              "  <div id=\"df-87441068-c493-4d71-990a-13851d906dff\">\n",
              "    <div class=\"colab-df-container\">\n",
              "      <div>\n",
              "<style scoped>\n",
              "    .dataframe tbody tr th:only-of-type {\n",
              "        vertical-align: middle;\n",
              "    }\n",
              "\n",
              "    .dataframe tbody tr th {\n",
              "        vertical-align: top;\n",
              "    }\n",
              "\n",
              "    .dataframe thead th {\n",
              "        text-align: right;\n",
              "    }\n",
              "</style>\n",
              "<table border=\"1\" class=\"dataframe\">\n",
              "  <thead>\n",
              "    <tr style=\"text-align: right;\">\n",
              "      <th></th>\n",
              "      <th>Date</th>\n",
              "      <th>Open</th>\n",
              "      <th>High</th>\n",
              "      <th>Low</th>\n",
              "      <th>Last</th>\n",
              "      <th>Close</th>\n",
              "      <th>Total Trade Quantity</th>\n",
              "      <th>Turnover (Lacs)</th>\n",
              "    </tr>\n",
              "  </thead>\n",
              "  <tbody>\n",
              "    <tr>\n",
              "      <th>0</th>\n",
              "      <td>2018-09-28</td>\n",
              "      <td>234.05</td>\n",
              "      <td>235.95</td>\n",
              "      <td>230.20</td>\n",
              "      <td>233.50</td>\n",
              "      <td>233.75</td>\n",
              "      <td>3069914</td>\n",
              "      <td>7162.35</td>\n",
              "    </tr>\n",
              "    <tr>\n",
              "      <th>1</th>\n",
              "      <td>2018-09-27</td>\n",
              "      <td>234.55</td>\n",
              "      <td>236.80</td>\n",
              "      <td>231.10</td>\n",
              "      <td>233.80</td>\n",
              "      <td>233.25</td>\n",
              "      <td>5082859</td>\n",
              "      <td>11859.95</td>\n",
              "    </tr>\n",
              "    <tr>\n",
              "      <th>2</th>\n",
              "      <td>2018-09-26</td>\n",
              "      <td>240.00</td>\n",
              "      <td>240.00</td>\n",
              "      <td>232.50</td>\n",
              "      <td>235.00</td>\n",
              "      <td>234.25</td>\n",
              "      <td>2240909</td>\n",
              "      <td>5248.60</td>\n",
              "    </tr>\n",
              "    <tr>\n",
              "      <th>3</th>\n",
              "      <td>2018-09-25</td>\n",
              "      <td>233.30</td>\n",
              "      <td>236.75</td>\n",
              "      <td>232.00</td>\n",
              "      <td>236.25</td>\n",
              "      <td>236.10</td>\n",
              "      <td>2349368</td>\n",
              "      <td>5503.90</td>\n",
              "    </tr>\n",
              "    <tr>\n",
              "      <th>4</th>\n",
              "      <td>2018-09-24</td>\n",
              "      <td>233.55</td>\n",
              "      <td>239.20</td>\n",
              "      <td>230.75</td>\n",
              "      <td>234.00</td>\n",
              "      <td>233.30</td>\n",
              "      <td>3423509</td>\n",
              "      <td>7999.55</td>\n",
              "    </tr>\n",
              "  </tbody>\n",
              "</table>\n",
              "</div>\n",
              "      <button class=\"colab-df-convert\" onclick=\"convertToInteractive('df-87441068-c493-4d71-990a-13851d906dff')\"\n",
              "              title=\"Convert this dataframe to an interactive table.\"\n",
              "              style=\"display:none;\">\n",
              "        \n",
              "  <svg xmlns=\"http://www.w3.org/2000/svg\" height=\"24px\"viewBox=\"0 0 24 24\"\n",
              "       width=\"24px\">\n",
              "    <path d=\"M0 0h24v24H0V0z\" fill=\"none\"/>\n",
              "    <path d=\"M18.56 5.44l.94 2.06.94-2.06 2.06-.94-2.06-.94-.94-2.06-.94 2.06-2.06.94zm-11 1L8.5 8.5l.94-2.06 2.06-.94-2.06-.94L8.5 2.5l-.94 2.06-2.06.94zm10 10l.94 2.06.94-2.06 2.06-.94-2.06-.94-.94-2.06-.94 2.06-2.06.94z\"/><path d=\"M17.41 7.96l-1.37-1.37c-.4-.4-.92-.59-1.43-.59-.52 0-1.04.2-1.43.59L10.3 9.45l-7.72 7.72c-.78.78-.78 2.05 0 2.83L4 21.41c.39.39.9.59 1.41.59.51 0 1.02-.2 1.41-.59l7.78-7.78 2.81-2.81c.8-.78.8-2.07 0-2.86zM5.41 20L4 18.59l7.72-7.72 1.47 1.35L5.41 20z\"/>\n",
              "  </svg>\n",
              "      </button>\n",
              "      \n",
              "  <style>\n",
              "    .colab-df-container {\n",
              "      display:flex;\n",
              "      flex-wrap:wrap;\n",
              "      gap: 12px;\n",
              "    }\n",
              "\n",
              "    .colab-df-convert {\n",
              "      background-color: #E8F0FE;\n",
              "      border: none;\n",
              "      border-radius: 50%;\n",
              "      cursor: pointer;\n",
              "      display: none;\n",
              "      fill: #1967D2;\n",
              "      height: 32px;\n",
              "      padding: 0 0 0 0;\n",
              "      width: 32px;\n",
              "    }\n",
              "\n",
              "    .colab-df-convert:hover {\n",
              "      background-color: #E2EBFA;\n",
              "      box-shadow: 0px 1px 2px rgba(60, 64, 67, 0.3), 0px 1px 3px 1px rgba(60, 64, 67, 0.15);\n",
              "      fill: #174EA6;\n",
              "    }\n",
              "\n",
              "    [theme=dark] .colab-df-convert {\n",
              "      background-color: #3B4455;\n",
              "      fill: #D2E3FC;\n",
              "    }\n",
              "\n",
              "    [theme=dark] .colab-df-convert:hover {\n",
              "      background-color: #434B5C;\n",
              "      box-shadow: 0px 1px 3px 1px rgba(0, 0, 0, 0.15);\n",
              "      filter: drop-shadow(0px 1px 2px rgba(0, 0, 0, 0.3));\n",
              "      fill: #FFFFFF;\n",
              "    }\n",
              "  </style>\n",
              "\n",
              "      <script>\n",
              "        const buttonEl =\n",
              "          document.querySelector('#df-87441068-c493-4d71-990a-13851d906dff button.colab-df-convert');\n",
              "        buttonEl.style.display =\n",
              "          google.colab.kernel.accessAllowed ? 'block' : 'none';\n",
              "\n",
              "        async function convertToInteractive(key) {\n",
              "          const element = document.querySelector('#df-87441068-c493-4d71-990a-13851d906dff');\n",
              "          const dataTable =\n",
              "            await google.colab.kernel.invokeFunction('convertToInteractive',\n",
              "                                                     [key], {});\n",
              "          if (!dataTable) return;\n",
              "\n",
              "          const docLinkHtml = 'Like what you see? Visit the ' +\n",
              "            '<a target=\"_blank\" href=https://colab.research.google.com/notebooks/data_table.ipynb>data table notebook</a>'\n",
              "            + ' to learn more about interactive tables.';\n",
              "          element.innerHTML = '';\n",
              "          dataTable['output_type'] = 'display_data';\n",
              "          await google.colab.output.renderOutput(dataTable, element);\n",
              "          const docLink = document.createElement('div');\n",
              "          docLink.innerHTML = docLinkHtml;\n",
              "          element.appendChild(docLink);\n",
              "        }\n",
              "      </script>\n",
              "    </div>\n",
              "  </div>\n",
              "  "
            ]
          },
          "metadata": {},
          "execution_count": 140
        }
      ]
    },
    {
      "cell_type": "code",
      "source": [
        "# explore dataaset\n",
        "data.tail()"
      ],
      "metadata": {
        "colab": {
          "base_uri": "https://localhost:8080/",
          "height": 206
        },
        "id": "LKwoJUJ54MAx",
        "outputId": "42d6d995-4708-4a0d-a2b7-2c050e2bbeae"
      },
      "execution_count": 141,
      "outputs": [
        {
          "output_type": "execute_result",
          "data": {
            "text/plain": [
              "            Date   Open    High     Low    Last   Close  Total Trade Quantity  \\\n",
              "2030  2010-07-27  117.6  119.50  112.00  118.80  118.65                586100   \n",
              "2031  2010-07-26  120.1  121.00  117.10  117.10  117.60                658440   \n",
              "2032  2010-07-23  121.8  121.95  120.25  120.35  120.65                281312   \n",
              "2033  2010-07-22  120.3  122.00  120.25  120.75  120.90                293312   \n",
              "2034  2010-07-21  122.1  123.00  121.05  121.10  121.55                658666   \n",
              "\n",
              "      Turnover (Lacs)  \n",
              "2030           694.98  \n",
              "2031           780.01  \n",
              "2032           340.31  \n",
              "2033           355.17  \n",
              "2034           803.56  "
            ],
            "text/html": [
              "\n",
              "  <div id=\"df-5510c848-e9cf-4f21-b525-02d1a2923ca1\">\n",
              "    <div class=\"colab-df-container\">\n",
              "      <div>\n",
              "<style scoped>\n",
              "    .dataframe tbody tr th:only-of-type {\n",
              "        vertical-align: middle;\n",
              "    }\n",
              "\n",
              "    .dataframe tbody tr th {\n",
              "        vertical-align: top;\n",
              "    }\n",
              "\n",
              "    .dataframe thead th {\n",
              "        text-align: right;\n",
              "    }\n",
              "</style>\n",
              "<table border=\"1\" class=\"dataframe\">\n",
              "  <thead>\n",
              "    <tr style=\"text-align: right;\">\n",
              "      <th></th>\n",
              "      <th>Date</th>\n",
              "      <th>Open</th>\n",
              "      <th>High</th>\n",
              "      <th>Low</th>\n",
              "      <th>Last</th>\n",
              "      <th>Close</th>\n",
              "      <th>Total Trade Quantity</th>\n",
              "      <th>Turnover (Lacs)</th>\n",
              "    </tr>\n",
              "  </thead>\n",
              "  <tbody>\n",
              "    <tr>\n",
              "      <th>2030</th>\n",
              "      <td>2010-07-27</td>\n",
              "      <td>117.6</td>\n",
              "      <td>119.50</td>\n",
              "      <td>112.00</td>\n",
              "      <td>118.80</td>\n",
              "      <td>118.65</td>\n",
              "      <td>586100</td>\n",
              "      <td>694.98</td>\n",
              "    </tr>\n",
              "    <tr>\n",
              "      <th>2031</th>\n",
              "      <td>2010-07-26</td>\n",
              "      <td>120.1</td>\n",
              "      <td>121.00</td>\n",
              "      <td>117.10</td>\n",
              "      <td>117.10</td>\n",
              "      <td>117.60</td>\n",
              "      <td>658440</td>\n",
              "      <td>780.01</td>\n",
              "    </tr>\n",
              "    <tr>\n",
              "      <th>2032</th>\n",
              "      <td>2010-07-23</td>\n",
              "      <td>121.8</td>\n",
              "      <td>121.95</td>\n",
              "      <td>120.25</td>\n",
              "      <td>120.35</td>\n",
              "      <td>120.65</td>\n",
              "      <td>281312</td>\n",
              "      <td>340.31</td>\n",
              "    </tr>\n",
              "    <tr>\n",
              "      <th>2033</th>\n",
              "      <td>2010-07-22</td>\n",
              "      <td>120.3</td>\n",
              "      <td>122.00</td>\n",
              "      <td>120.25</td>\n",
              "      <td>120.75</td>\n",
              "      <td>120.90</td>\n",
              "      <td>293312</td>\n",
              "      <td>355.17</td>\n",
              "    </tr>\n",
              "    <tr>\n",
              "      <th>2034</th>\n",
              "      <td>2010-07-21</td>\n",
              "      <td>122.1</td>\n",
              "      <td>123.00</td>\n",
              "      <td>121.05</td>\n",
              "      <td>121.10</td>\n",
              "      <td>121.55</td>\n",
              "      <td>658666</td>\n",
              "      <td>803.56</td>\n",
              "    </tr>\n",
              "  </tbody>\n",
              "</table>\n",
              "</div>\n",
              "      <button class=\"colab-df-convert\" onclick=\"convertToInteractive('df-5510c848-e9cf-4f21-b525-02d1a2923ca1')\"\n",
              "              title=\"Convert this dataframe to an interactive table.\"\n",
              "              style=\"display:none;\">\n",
              "        \n",
              "  <svg xmlns=\"http://www.w3.org/2000/svg\" height=\"24px\"viewBox=\"0 0 24 24\"\n",
              "       width=\"24px\">\n",
              "    <path d=\"M0 0h24v24H0V0z\" fill=\"none\"/>\n",
              "    <path d=\"M18.56 5.44l.94 2.06.94-2.06 2.06-.94-2.06-.94-.94-2.06-.94 2.06-2.06.94zm-11 1L8.5 8.5l.94-2.06 2.06-.94-2.06-.94L8.5 2.5l-.94 2.06-2.06.94zm10 10l.94 2.06.94-2.06 2.06-.94-2.06-.94-.94-2.06-.94 2.06-2.06.94z\"/><path d=\"M17.41 7.96l-1.37-1.37c-.4-.4-.92-.59-1.43-.59-.52 0-1.04.2-1.43.59L10.3 9.45l-7.72 7.72c-.78.78-.78 2.05 0 2.83L4 21.41c.39.39.9.59 1.41.59.51 0 1.02-.2 1.41-.59l7.78-7.78 2.81-2.81c.8-.78.8-2.07 0-2.86zM5.41 20L4 18.59l7.72-7.72 1.47 1.35L5.41 20z\"/>\n",
              "  </svg>\n",
              "      </button>\n",
              "      \n",
              "  <style>\n",
              "    .colab-df-container {\n",
              "      display:flex;\n",
              "      flex-wrap:wrap;\n",
              "      gap: 12px;\n",
              "    }\n",
              "\n",
              "    .colab-df-convert {\n",
              "      background-color: #E8F0FE;\n",
              "      border: none;\n",
              "      border-radius: 50%;\n",
              "      cursor: pointer;\n",
              "      display: none;\n",
              "      fill: #1967D2;\n",
              "      height: 32px;\n",
              "      padding: 0 0 0 0;\n",
              "      width: 32px;\n",
              "    }\n",
              "\n",
              "    .colab-df-convert:hover {\n",
              "      background-color: #E2EBFA;\n",
              "      box-shadow: 0px 1px 2px rgba(60, 64, 67, 0.3), 0px 1px 3px 1px rgba(60, 64, 67, 0.15);\n",
              "      fill: #174EA6;\n",
              "    }\n",
              "\n",
              "    [theme=dark] .colab-df-convert {\n",
              "      background-color: #3B4455;\n",
              "      fill: #D2E3FC;\n",
              "    }\n",
              "\n",
              "    [theme=dark] .colab-df-convert:hover {\n",
              "      background-color: #434B5C;\n",
              "      box-shadow: 0px 1px 3px 1px rgba(0, 0, 0, 0.15);\n",
              "      filter: drop-shadow(0px 1px 2px rgba(0, 0, 0, 0.3));\n",
              "      fill: #FFFFFF;\n",
              "    }\n",
              "  </style>\n",
              "\n",
              "      <script>\n",
              "        const buttonEl =\n",
              "          document.querySelector('#df-5510c848-e9cf-4f21-b525-02d1a2923ca1 button.colab-df-convert');\n",
              "        buttonEl.style.display =\n",
              "          google.colab.kernel.accessAllowed ? 'block' : 'none';\n",
              "\n",
              "        async function convertToInteractive(key) {\n",
              "          const element = document.querySelector('#df-5510c848-e9cf-4f21-b525-02d1a2923ca1');\n",
              "          const dataTable =\n",
              "            await google.colab.kernel.invokeFunction('convertToInteractive',\n",
              "                                                     [key], {});\n",
              "          if (!dataTable) return;\n",
              "\n",
              "          const docLinkHtml = 'Like what you see? Visit the ' +\n",
              "            '<a target=\"_blank\" href=https://colab.research.google.com/notebooks/data_table.ipynb>data table notebook</a>'\n",
              "            + ' to learn more about interactive tables.';\n",
              "          element.innerHTML = '';\n",
              "          dataTable['output_type'] = 'display_data';\n",
              "          await google.colab.output.renderOutput(dataTable, element);\n",
              "          const docLink = document.createElement('div');\n",
              "          docLink.innerHTML = docLinkHtml;\n",
              "          element.appendChild(docLink);\n",
              "        }\n",
              "      </script>\n",
              "    </div>\n",
              "  </div>\n",
              "  "
            ]
          },
          "metadata": {},
          "execution_count": 141
        }
      ]
    },
    {
      "cell_type": "code",
      "source": [
        "# Details of each column in dataset\n",
        "data.info()"
      ],
      "metadata": {
        "colab": {
          "base_uri": "https://localhost:8080/"
        },
        "id": "iXxszXnl4MEH",
        "outputId": "e1e31ffe-1335-42aa-b98f-f0efc99ace53"
      },
      "execution_count": 142,
      "outputs": [
        {
          "output_type": "stream",
          "name": "stdout",
          "text": [
            "<class 'pandas.core.frame.DataFrame'>\n",
            "RangeIndex: 2035 entries, 0 to 2034\n",
            "Data columns (total 8 columns):\n",
            " #   Column                Non-Null Count  Dtype  \n",
            "---  ------                --------------  -----  \n",
            " 0   Date                  2035 non-null   object \n",
            " 1   Open                  2035 non-null   float64\n",
            " 2   High                  2035 non-null   float64\n",
            " 3   Low                   2035 non-null   float64\n",
            " 4   Last                  2035 non-null   float64\n",
            " 5   Close                 2035 non-null   float64\n",
            " 6   Total Trade Quantity  2035 non-null   int64  \n",
            " 7   Turnover (Lacs)       2035 non-null   float64\n",
            "dtypes: float64(6), int64(1), object(1)\n",
            "memory usage: 127.3+ KB\n"
          ]
        }
      ]
    },
    {
      "cell_type": "code",
      "source": [
        "# Statistical Info of Dataset\n",
        "data.describe()"
      ],
      "metadata": {
        "colab": {
          "base_uri": "https://localhost:8080/",
          "height": 300
        },
        "id": "sigeKpNE4MMr",
        "outputId": "a3f4f67a-2690-4c86-b397-8f7339295102"
      },
      "execution_count": 143,
      "outputs": [
        {
          "output_type": "execute_result",
          "data": {
            "text/plain": [
              "              Open         High          Low         Last       Close  \\\n",
              "count  2035.000000  2035.000000  2035.000000  2035.000000  2035.00000   \n",
              "mean    149.713735   151.992826   147.293931   149.474251   149.45027   \n",
              "std      48.664509    49.413109    47.931958    48.732570    48.71204   \n",
              "min      81.100000    82.800000    80.000000    81.000000    80.95000   \n",
              "25%     120.025000   122.100000   118.300000   120.075000   120.05000   \n",
              "50%     141.500000   143.400000   139.600000   141.100000   141.25000   \n",
              "75%     157.175000   159.400000   155.150000   156.925000   156.90000   \n",
              "max     327.700000   328.750000   321.650000   325.950000   325.75000   \n",
              "\n",
              "       Total Trade Quantity  Turnover (Lacs)  \n",
              "count          2.035000e+03      2035.000000  \n",
              "mean           2.335681e+06      3899.980565  \n",
              "std            2.091778e+06      4570.767877  \n",
              "min            3.961000e+04        37.040000  \n",
              "25%            1.146444e+06      1427.460000  \n",
              "50%            1.783456e+06      2512.030000  \n",
              "75%            2.813594e+06      4539.015000  \n",
              "max            2.919102e+07     55755.080000  "
            ],
            "text/html": [
              "\n",
              "  <div id=\"df-4abfa807-c01d-4d8c-b20e-1c105de7fbf3\">\n",
              "    <div class=\"colab-df-container\">\n",
              "      <div>\n",
              "<style scoped>\n",
              "    .dataframe tbody tr th:only-of-type {\n",
              "        vertical-align: middle;\n",
              "    }\n",
              "\n",
              "    .dataframe tbody tr th {\n",
              "        vertical-align: top;\n",
              "    }\n",
              "\n",
              "    .dataframe thead th {\n",
              "        text-align: right;\n",
              "    }\n",
              "</style>\n",
              "<table border=\"1\" class=\"dataframe\">\n",
              "  <thead>\n",
              "    <tr style=\"text-align: right;\">\n",
              "      <th></th>\n",
              "      <th>Open</th>\n",
              "      <th>High</th>\n",
              "      <th>Low</th>\n",
              "      <th>Last</th>\n",
              "      <th>Close</th>\n",
              "      <th>Total Trade Quantity</th>\n",
              "      <th>Turnover (Lacs)</th>\n",
              "    </tr>\n",
              "  </thead>\n",
              "  <tbody>\n",
              "    <tr>\n",
              "      <th>count</th>\n",
              "      <td>2035.000000</td>\n",
              "      <td>2035.000000</td>\n",
              "      <td>2035.000000</td>\n",
              "      <td>2035.000000</td>\n",
              "      <td>2035.00000</td>\n",
              "      <td>2.035000e+03</td>\n",
              "      <td>2035.000000</td>\n",
              "    </tr>\n",
              "    <tr>\n",
              "      <th>mean</th>\n",
              "      <td>149.713735</td>\n",
              "      <td>151.992826</td>\n",
              "      <td>147.293931</td>\n",
              "      <td>149.474251</td>\n",
              "      <td>149.45027</td>\n",
              "      <td>2.335681e+06</td>\n",
              "      <td>3899.980565</td>\n",
              "    </tr>\n",
              "    <tr>\n",
              "      <th>std</th>\n",
              "      <td>48.664509</td>\n",
              "      <td>49.413109</td>\n",
              "      <td>47.931958</td>\n",
              "      <td>48.732570</td>\n",
              "      <td>48.71204</td>\n",
              "      <td>2.091778e+06</td>\n",
              "      <td>4570.767877</td>\n",
              "    </tr>\n",
              "    <tr>\n",
              "      <th>min</th>\n",
              "      <td>81.100000</td>\n",
              "      <td>82.800000</td>\n",
              "      <td>80.000000</td>\n",
              "      <td>81.000000</td>\n",
              "      <td>80.95000</td>\n",
              "      <td>3.961000e+04</td>\n",
              "      <td>37.040000</td>\n",
              "    </tr>\n",
              "    <tr>\n",
              "      <th>25%</th>\n",
              "      <td>120.025000</td>\n",
              "      <td>122.100000</td>\n",
              "      <td>118.300000</td>\n",
              "      <td>120.075000</td>\n",
              "      <td>120.05000</td>\n",
              "      <td>1.146444e+06</td>\n",
              "      <td>1427.460000</td>\n",
              "    </tr>\n",
              "    <tr>\n",
              "      <th>50%</th>\n",
              "      <td>141.500000</td>\n",
              "      <td>143.400000</td>\n",
              "      <td>139.600000</td>\n",
              "      <td>141.100000</td>\n",
              "      <td>141.25000</td>\n",
              "      <td>1.783456e+06</td>\n",
              "      <td>2512.030000</td>\n",
              "    </tr>\n",
              "    <tr>\n",
              "      <th>75%</th>\n",
              "      <td>157.175000</td>\n",
              "      <td>159.400000</td>\n",
              "      <td>155.150000</td>\n",
              "      <td>156.925000</td>\n",
              "      <td>156.90000</td>\n",
              "      <td>2.813594e+06</td>\n",
              "      <td>4539.015000</td>\n",
              "    </tr>\n",
              "    <tr>\n",
              "      <th>max</th>\n",
              "      <td>327.700000</td>\n",
              "      <td>328.750000</td>\n",
              "      <td>321.650000</td>\n",
              "      <td>325.950000</td>\n",
              "      <td>325.75000</td>\n",
              "      <td>2.919102e+07</td>\n",
              "      <td>55755.080000</td>\n",
              "    </tr>\n",
              "  </tbody>\n",
              "</table>\n",
              "</div>\n",
              "      <button class=\"colab-df-convert\" onclick=\"convertToInteractive('df-4abfa807-c01d-4d8c-b20e-1c105de7fbf3')\"\n",
              "              title=\"Convert this dataframe to an interactive table.\"\n",
              "              style=\"display:none;\">\n",
              "        \n",
              "  <svg xmlns=\"http://www.w3.org/2000/svg\" height=\"24px\"viewBox=\"0 0 24 24\"\n",
              "       width=\"24px\">\n",
              "    <path d=\"M0 0h24v24H0V0z\" fill=\"none\"/>\n",
              "    <path d=\"M18.56 5.44l.94 2.06.94-2.06 2.06-.94-2.06-.94-.94-2.06-.94 2.06-2.06.94zm-11 1L8.5 8.5l.94-2.06 2.06-.94-2.06-.94L8.5 2.5l-.94 2.06-2.06.94zm10 10l.94 2.06.94-2.06 2.06-.94-2.06-.94-.94-2.06-.94 2.06-2.06.94z\"/><path d=\"M17.41 7.96l-1.37-1.37c-.4-.4-.92-.59-1.43-.59-.52 0-1.04.2-1.43.59L10.3 9.45l-7.72 7.72c-.78.78-.78 2.05 0 2.83L4 21.41c.39.39.9.59 1.41.59.51 0 1.02-.2 1.41-.59l7.78-7.78 2.81-2.81c.8-.78.8-2.07 0-2.86zM5.41 20L4 18.59l7.72-7.72 1.47 1.35L5.41 20z\"/>\n",
              "  </svg>\n",
              "      </button>\n",
              "      \n",
              "  <style>\n",
              "    .colab-df-container {\n",
              "      display:flex;\n",
              "      flex-wrap:wrap;\n",
              "      gap: 12px;\n",
              "    }\n",
              "\n",
              "    .colab-df-convert {\n",
              "      background-color: #E8F0FE;\n",
              "      border: none;\n",
              "      border-radius: 50%;\n",
              "      cursor: pointer;\n",
              "      display: none;\n",
              "      fill: #1967D2;\n",
              "      height: 32px;\n",
              "      padding: 0 0 0 0;\n",
              "      width: 32px;\n",
              "    }\n",
              "\n",
              "    .colab-df-convert:hover {\n",
              "      background-color: #E2EBFA;\n",
              "      box-shadow: 0px 1px 2px rgba(60, 64, 67, 0.3), 0px 1px 3px 1px rgba(60, 64, 67, 0.15);\n",
              "      fill: #174EA6;\n",
              "    }\n",
              "\n",
              "    [theme=dark] .colab-df-convert {\n",
              "      background-color: #3B4455;\n",
              "      fill: #D2E3FC;\n",
              "    }\n",
              "\n",
              "    [theme=dark] .colab-df-convert:hover {\n",
              "      background-color: #434B5C;\n",
              "      box-shadow: 0px 1px 3px 1px rgba(0, 0, 0, 0.15);\n",
              "      filter: drop-shadow(0px 1px 2px rgba(0, 0, 0, 0.3));\n",
              "      fill: #FFFFFF;\n",
              "    }\n",
              "  </style>\n",
              "\n",
              "      <script>\n",
              "        const buttonEl =\n",
              "          document.querySelector('#df-4abfa807-c01d-4d8c-b20e-1c105de7fbf3 button.colab-df-convert');\n",
              "        buttonEl.style.display =\n",
              "          google.colab.kernel.accessAllowed ? 'block' : 'none';\n",
              "\n",
              "        async function convertToInteractive(key) {\n",
              "          const element = document.querySelector('#df-4abfa807-c01d-4d8c-b20e-1c105de7fbf3');\n",
              "          const dataTable =\n",
              "            await google.colab.kernel.invokeFunction('convertToInteractive',\n",
              "                                                     [key], {});\n",
              "          if (!dataTable) return;\n",
              "\n",
              "          const docLinkHtml = 'Like what you see? Visit the ' +\n",
              "            '<a target=\"_blank\" href=https://colab.research.google.com/notebooks/data_table.ipynb>data table notebook</a>'\n",
              "            + ' to learn more about interactive tables.';\n",
              "          element.innerHTML = '';\n",
              "          dataTable['output_type'] = 'display_data';\n",
              "          await google.colab.output.renderOutput(dataTable, element);\n",
              "          const docLink = document.createElement('div');\n",
              "          docLink.innerHTML = docLinkHtml;\n",
              "          element.appendChild(docLink);\n",
              "        }\n",
              "      </script>\n",
              "    </div>\n",
              "  </div>\n",
              "  "
            ]
          },
          "metadata": {},
          "execution_count": 143
        }
      ]
    },
    {
      "cell_type": "markdown",
      "source": [
        "# Dataframe Selection"
      ],
      "metadata": {
        "id": "ZRNW1dZDAI-1"
      }
    },
    {
      "cell_type": "code",
      "source": [
        "# Consider necessary dataframe ie. column Close (closing price) from Dataset\n",
        "df = data.reset_index()['Close']\n",
        "df.shape"
      ],
      "metadata": {
        "colab": {
          "base_uri": "https://localhost:8080/"
        },
        "id": "ucFhk9464ZJQ",
        "outputId": "2c5d12df-0e05-4d5e-a614-6edbf5b52f1e"
      },
      "execution_count": 144,
      "outputs": [
        {
          "output_type": "execute_result",
          "data": {
            "text/plain": [
              "(2035,)"
            ]
          },
          "metadata": {},
          "execution_count": 144
        }
      ]
    },
    {
      "cell_type": "code",
      "source": [
        "# explore dataframe\n",
        "df.head()"
      ],
      "metadata": {
        "colab": {
          "base_uri": "https://localhost:8080/"
        },
        "id": "PJrROI0Y4ZFw",
        "outputId": "76af5576-7d28-414d-d68f-425e6d941fd3"
      },
      "execution_count": 145,
      "outputs": [
        {
          "output_type": "execute_result",
          "data": {
            "text/plain": [
              "0    233.75\n",
              "1    233.25\n",
              "2    234.25\n",
              "3    236.10\n",
              "4    233.30\n",
              "Name: Close, dtype: float64"
            ]
          },
          "metadata": {},
          "execution_count": 145
        }
      ]
    },
    {
      "cell_type": "code",
      "source": [
        "# explore dataframe\n",
        "df.tail()"
      ],
      "metadata": {
        "colab": {
          "base_uri": "https://localhost:8080/"
        },
        "id": "iW_0qUaLAgVH",
        "outputId": "b8f8234b-3f13-4a8b-db7c-4bb8ee63e574"
      },
      "execution_count": 146,
      "outputs": [
        {
          "output_type": "execute_result",
          "data": {
            "text/plain": [
              "2030    118.65\n",
              "2031    117.60\n",
              "2032    120.65\n",
              "2033    120.90\n",
              "2034    121.55\n",
              "Name: Close, dtype: float64"
            ]
          },
          "metadata": {},
          "execution_count": 146
        }
      ]
    },
    {
      "cell_type": "markdown",
      "source": [
        "# Dataframe Visualization"
      ],
      "metadata": {
        "id": "OQrRWXTjBIEj"
      }
    },
    {
      "cell_type": "code",
      "source": [
        "# Plot Graph for Closing Price of 2035 days\n",
        "plt.figure(figsize=(14, 7))\n",
        "plt.plot(df)\n",
        "plt.title(\"Closing Price from 2010-07-21 to 2018-09-28\")\n",
        "plt.show()"
      ],
      "metadata": {
        "colab": {
          "base_uri": "https://localhost:8080/",
          "height": 444
        },
        "id": "2J-W4Es34ZDe",
        "outputId": "11c13673-f6df-4ab4-c5b8-2fda3e0731c6"
      },
      "execution_count": 147,
      "outputs": [
        {
          "output_type": "display_data",
          "data": {
            "text/plain": [
              "<Figure size 1008x504 with 1 Axes>"
            ],
            "image/png": "[encoded data removed]"
          },
          "metadata": {
            "needs_background": "light"
          }
        }
      ]
    },
    {
      "cell_type": "markdown",
      "source": [
        "# Scaling Dataframe using MinMaxScaler"
      ],
      "metadata": {
        "id": "apAZTj4zB36Q"
      }
    },
    {
      "cell_type": "code",
      "source": [
        "# scaling dataframe\n",
        "from sklearn.preprocessing import MinMaxScaler\n",
        "scaler = MinMaxScaler(feature_range = (0, 1))\n",
        "df = scaler.fit_transform(np.array(df).reshape(-1,1))\n",
        "df.shape"
      ],
      "metadata": {
        "colab": {
          "base_uri": "https://localhost:8080/"
        },
        "id": "RAlLkTSm4ZA_",
        "outputId": "fd1933ae-2dcf-4b87-acf5-165bdfc2bf09"
      },
      "execution_count": 148,
      "outputs": [
        {
          "output_type": "execute_result",
          "data": {
            "text/plain": [
              "(2035, 1)"
            ]
          },
          "metadata": {},
          "execution_count": 148
        }
      ]
    },
    {
      "cell_type": "code",
      "source": [
        "# modified dataframe\n",
        "df"
      ],
      "metadata": {
        "colab": {
          "base_uri": "https://localhost:8080/"
        },
        "id": "bjUs7SbF4Y-I",
        "outputId": "515be895-126a-4ff7-95b3-412cd8e5940c"
      },
      "execution_count": 149,
      "outputs": [
        {
          "output_type": "execute_result",
          "data": {
            "text/plain": [
              "array([[0.62418301],\n",
              "       [0.62214052],\n",
              "       [0.62622549],\n",
              "       ...,\n",
              "       [0.1621732 ],\n",
              "       [0.16319444],\n",
              "       [0.16584967]])"
            ]
          },
          "metadata": {},
          "execution_count": 149
        }
      ]
    },
    {
      "cell_type": "markdown",
      "source": [
        "# Split Dataframe into Training And Testing Set"
      ],
      "metadata": {
        "id": "lxYPZa8nCm5r"
      }
    },
    {
      "cell_type": "code",
      "source": [
        "# Split Dataframe into Training and Testing Dataset in ration 80:20\n",
        "train_size = int(len(df) * 0.80)\n",
        "train_data, test_data = df[0:train_size, :], df[train_size:len(df), :1]"
      ],
      "metadata": {
        "id": "uE-8XV8o4Y7e"
      },
      "execution_count": 150,
      "outputs": []
    },
    {
      "cell_type": "code",
      "source": [
        "# Explore Training and Testing Dataset\n",
        "\n",
        "print(\"Training Set Head:\\n\",train_data[:5:])\n",
        "print(\"Training Set Tail:\\n\",train_data[:-6:-1])\n",
        "print(\"Training Set Size:\",train_data.shape)\n",
        "print()\n",
        "print(\"Testing Set Head:\\n\",test_data[:5:])\n",
        "print(\"Testing Set Tail:\\n\",test_data[:-6:-1])\n",
        "print(\"Testing Set Size:\",test_data.shape)"
      ],
      "metadata": {
        "colab": {
          "base_uri": "https://localhost:8080/"
        },
        "id": "7iCpaU2r4q6t",
        "outputId": "a2966f04-c584-42fa-98ba-5982071818ff"
      },
      "execution_count": 151,
      "outputs": [
        {
          "output_type": "stream",
          "name": "stdout",
          "text": [
            "Training Set Head:\n",
            " [[0.62418301]\n",
            " [0.62214052]\n",
            " [0.62622549]\n",
            " [0.63378268]\n",
            " [0.62234477]]\n",
            "Training Set Tail:\n",
            " [[0.1431781 ]\n",
            " [0.13419118]\n",
            " [0.1435866 ]\n",
            " [0.15216503]\n",
            " [0.14644608]]\n",
            "Training Set Size: (1628, 1)\n",
            "\n",
            "Testing Set Head:\n",
            " [[0.16115196]\n",
            " [0.16176471]\n",
            " [0.17320261]\n",
            " [0.18218954]\n",
            " [0.16237745]]\n",
            "Testing Set Tail:\n",
            " [[0.16584967]\n",
            " [0.16319444]\n",
            " [0.1621732 ]\n",
            " [0.14971405]\n",
            " [0.15400327]]\n",
            "Testing Set Size: (407, 1)\n"
          ]
        }
      ]
    },
    {
      "cell_type": "markdown",
      "source": [
        "# Convert Array Dataframe into Matrix"
      ],
      "metadata": {
        "id": "GKMg6vNRE9ZW"
      }
    },
    {
      "cell_type": "code",
      "source": [
        "def make_dataset(data, time_step):\n",
        "\td1, d2 = [], []\n",
        "\tfor i in range(len(data)-time_step-1):  \n",
        "\t\td1.append(data[i:(i + time_step), 0])\n",
        "\t\td2.append(data[i + time_step, 0])\n",
        "\treturn np.array(d1), np.array(d2)"
      ],
      "metadata": {
        "id": "xbPXpvtp4q0_"
      },
      "execution_count": 152,
      "outputs": []
    },
    {
      "cell_type": "code",
      "source": [
        "# Split it into X and y variables\n",
        "X_train, y_train = make_dataset(train_data, 100)\n",
        "X_test, y_test = make_dataset(test_data, 100)"
      ],
      "metadata": {
        "id": "FpNkzd1f4qyc"
      },
      "execution_count": 153,
      "outputs": []
    },
    {
      "cell_type": "code",
      "source": [
        "print(\"Size of Training set for X\",X_train.shape)\n",
        "print(\"Size of Training set for y\",y_train.shape)\n",
        "print(\"Size of Testing set for X\",X_test.shape)\n",
        "print(\"Size of Testing set for y\",y_test.shape)"
      ],
      "metadata": {
        "colab": {
          "base_uri": "https://localhost:8080/"
        },
        "id": "RCWqOnmO4qwB",
        "outputId": "23df14c2-4db5-4efa-8441-c10c7d41d5a0"
      },
      "execution_count": 154,
      "outputs": [
        {
          "output_type": "stream",
          "name": "stdout",
          "text": [
            "Size of Training set for X (1527, 100)\n",
            "Size of Training set for y (1527,)\n",
            "Size of Testing set for X (306, 100)\n",
            "Size of Testing set for y (306,)\n"
          ]
        }
      ]
    },
    {
      "cell_type": "code",
      "source": [
        "# Reshape dataframe in form of [Data, Steps, Feature]\n",
        "X_train = X_train.reshape(X_train.shape[0], X_train.shape[1], 1)\n",
        "X_test = X_test.reshape(X_test.shape[0], X_test.shape[1], 1)"
      ],
      "metadata": {
        "id": "efijZbaM4qte"
      },
      "execution_count": 155,
      "outputs": []
    },
    {
      "cell_type": "markdown",
      "source": [
        "# Creating Deep Learning Model LSTM"
      ],
      "metadata": {
        "id": "N5LOfUbVGaIC"
      }
    },
    {
      "cell_type": "code",
      "source": [
        "# import required modules from tensorflow\n",
        "from tensorflow.keras.models import Sequential\n",
        "from tensorflow.keras.layers import Dense\n",
        "from tensorflow.keras.layers import LSTM\n",
        "\n",
        "#initialize a sequential model\n",
        "model = Sequential()\n",
        "\n",
        "# add keras layers to the model\n",
        "model.add(LSTM(50, return_sequences = True, input_shape = (100, 1)))\n",
        "model.add(LSTM(50, return_sequences = True))\n",
        "model.add(LSTM(50))\n",
        "model.add(Dense(1))\n",
        "\n",
        "# configure model for training\n",
        "model.compile(loss = 'mean_squared_error', optimizer = 'adam')"
      ],
      "metadata": {
        "id": "lvFI01e0GZVJ"
      },
      "execution_count": 156,
      "outputs": []
    },
    {
      "cell_type": "code",
      "source": [
        "# model description\n",
        "model.summary()"
      ],
      "metadata": {
        "colab": {
          "base_uri": "https://localhost:8080/"
        },
        "id": "44RYtHxVGwhT",
        "outputId": "51263f0d-ea6c-4d26-8ab8-39d300f49aa1"
      },
      "execution_count": 157,
      "outputs": [
        {
          "output_type": "stream",
          "name": "stdout",
          "text": [
            "Model: \"sequential_4\"\n",
            "_________________________________________________________________\n",
            " Layer (type)                Output Shape              Param #   \n",
            "=================================================================\n",
            " lstm_12 (LSTM)              (None, 100, 50)           10400     \n",
            "                                                                 \n",
            " lstm_13 (LSTM)              (None, 100, 50)           20200     \n",
            "                                                                 \n",
            " lstm_14 (LSTM)              (None, 50)                20200     \n",
            "                                                                 \n",
            " dense_4 (Dense)             (None, 1)                 51        \n",
            "                                                                 \n",
            "=================================================================\n",
            "Total params: 50,851\n",
            "Trainable params: 50,851\n",
            "Non-trainable params: 0\n",
            "_________________________________________________________________\n"
          ]
        }
      ]
    },
    {
      "cell_type": "code",
      "source": [
        "model.fit(X_train, y_train, validation_data = (X_test,y_test), epochs = 100, batch_size = 64, verbose = 1)"
      ],
      "metadata": {
        "colab": {
          "base_uri": "https://localhost:8080/"
        },
        "id": "m2k8wk0mGyRg",
        "outputId": "2840c671-8777-49db-9376-dd5365fc714e"
      },
      "execution_count": 158,
      "outputs": [
        {
          "output_type": "stream",
          "name": "stdout",
          "text": [
            "Epoch 1/100\n",
            "24/24 [==============================] - 5s 63ms/step - loss: 0.0230 - val_loss: 0.0053\n",
            "Epoch 2/100\n",
            "24/24 [==============================] - 0s 15ms/step - loss: 0.0025 - val_loss: 5.5760e-04\n",
            "Epoch 3/100\n",
            "24/24 [==============================] - 0s 15ms/step - loss: 0.0015 - val_loss: 8.6168e-04\n",
            "Epoch 4/100\n",
            "24/24 [==============================] - 0s 15ms/step - loss: 0.0013 - val_loss: 6.3132e-04\n",
            "Epoch 5/100\n",
            "24/24 [==============================] - 0s 15ms/step - loss: 0.0013 - val_loss: 5.8878e-04\n",
            "Epoch 6/100\n",
            "24/24 [==============================] - 0s 15ms/step - loss: 0.0013 - val_loss: 5.8984e-04\n",
            "Epoch 7/100\n",
            "24/24 [==============================] - 0s 15ms/step - loss: 0.0013 - val_loss: 5.8437e-04\n",
            "Epoch 8/100\n",
            "24/24 [==============================] - 0s 15ms/step - loss: 0.0012 - val_loss: 6.3506e-04\n",
            "Epoch 9/100\n",
            "24/24 [==============================] - 0s 15ms/step - loss: 0.0010 - val_loss: 6.9952e-04\n",
            "Epoch 10/100\n",
            "24/24 [==============================] - 0s 15ms/step - loss: 9.6916e-04 - val_loss: 5.1682e-04\n",
            "Epoch 11/100\n",
            "24/24 [==============================] - 0s 15ms/step - loss: 9.5329e-04 - val_loss: 5.4385e-04\n",
            "Epoch 12/100\n",
            "24/24 [==============================] - 0s 15ms/step - loss: 9.1218e-04 - val_loss: 5.1042e-04\n",
            "Epoch 13/100\n",
            "24/24 [==============================] - 0s 15ms/step - loss: 8.4841e-04 - val_loss: 4.4916e-04\n",
            "Epoch 14/100\n",
            "24/24 [==============================] - 0s 15ms/step - loss: 8.7010e-04 - val_loss: 5.4145e-04\n",
            "Epoch 15/100\n",
            "24/24 [==============================] - 0s 15ms/step - loss: 7.9910e-04 - val_loss: 4.0589e-04\n",
            "Epoch 16/100\n",
            "24/24 [==============================] - 0s 15ms/step - loss: 7.7673e-04 - val_loss: 4.1714e-04\n",
            "Epoch 17/100\n",
            "24/24 [==============================] - 0s 16ms/step - loss: 7.3954e-04 - val_loss: 4.7102e-04\n",
            "Epoch 18/100\n",
            "24/24 [==============================] - 0s 15ms/step - loss: 7.4313e-04 - val_loss: 3.8807e-04\n",
            "Epoch 19/100\n",
            "24/24 [==============================] - 0s 15ms/step - loss: 8.0041e-04 - val_loss: 4.3951e-04\n",
            "Epoch 20/100\n",
            "24/24 [==============================] - 0s 15ms/step - loss: 7.0662e-04 - val_loss: 3.6883e-04\n",
            "Epoch 21/100\n",
            "24/24 [==============================] - 0s 15ms/step - loss: 6.8597e-04 - val_loss: 4.5171e-04\n",
            "Epoch 22/100\n",
            "24/24 [==============================] - 0s 15ms/step - loss: 6.5141e-04 - val_loss: 3.8990e-04\n",
            "Epoch 23/100\n",
            "24/24 [==============================] - 0s 16ms/step - loss: 6.7784e-04 - val_loss: 3.6650e-04\n",
            "Epoch 24/100\n",
            "24/24 [==============================] - 0s 15ms/step - loss: 6.4559e-04 - val_loss: 4.4973e-04\n",
            "Epoch 25/100\n",
            "24/24 [==============================] - 0s 16ms/step - loss: 6.3117e-04 - val_loss: 4.2575e-04\n",
            "Epoch 26/100\n",
            "24/24 [==============================] - 0s 15ms/step - loss: 6.7081e-04 - val_loss: 3.4668e-04\n",
            "Epoch 27/100\n",
            "24/24 [==============================] - 0s 15ms/step - loss: 7.9085e-04 - val_loss: 3.5275e-04\n",
            "Epoch 28/100\n",
            "24/24 [==============================] - 0s 15ms/step - loss: 6.7362e-04 - val_loss: 6.0537e-04\n",
            "Epoch 29/100\n",
            "24/24 [==============================] - 0s 15ms/step - loss: 5.7753e-04 - val_loss: 3.7273e-04\n",
            "Epoch 30/100\n",
            "24/24 [==============================] - 0s 15ms/step - loss: 5.7669e-04 - val_loss: 4.1856e-04\n",
            "Epoch 31/100\n",
            "24/24 [==============================] - 0s 15ms/step - loss: 5.3437e-04 - val_loss: 5.4240e-04\n",
            "Epoch 32/100\n",
            "24/24 [==============================] - 0s 15ms/step - loss: 5.4298e-04 - val_loss: 5.6505e-04\n",
            "Epoch 33/100\n",
            "24/24 [==============================] - 0s 15ms/step - loss: 5.3313e-04 - val_loss: 3.8708e-04\n",
            "Epoch 34/100\n",
            "24/24 [==============================] - 0s 15ms/step - loss: 5.0505e-04 - val_loss: 3.7756e-04\n",
            "Epoch 35/100\n",
            "24/24 [==============================] - 0s 15ms/step - loss: 5.0444e-04 - val_loss: 3.7480e-04\n",
            "Epoch 36/100\n",
            "24/24 [==============================] - 0s 16ms/step - loss: 4.9566e-04 - val_loss: 3.0514e-04\n",
            "Epoch 37/100\n",
            "24/24 [==============================] - 0s 15ms/step - loss: 5.4309e-04 - val_loss: 3.2074e-04\n",
            "Epoch 38/100\n",
            "24/24 [==============================] - 0s 15ms/step - loss: 4.6429e-04 - val_loss: 3.7460e-04\n",
            "Epoch 39/100\n",
            "24/24 [==============================] - 0s 15ms/step - loss: 5.2472e-04 - val_loss: 3.5926e-04\n",
            "Epoch 40/100\n",
            "24/24 [==============================] - 0s 15ms/step - loss: 4.8237e-04 - val_loss: 2.7933e-04\n",
            "Epoch 41/100\n",
            "24/24 [==============================] - 0s 16ms/step - loss: 4.8873e-04 - val_loss: 3.1371e-04\n",
            "Epoch 42/100\n",
            "24/24 [==============================] - 0s 16ms/step - loss: 5.3616e-04 - val_loss: 3.4980e-04\n",
            "Epoch 43/100\n",
            "24/24 [==============================] - 0s 15ms/step - loss: 4.1222e-04 - val_loss: 3.1964e-04\n",
            "Epoch 44/100\n",
            "24/24 [==============================] - 0s 15ms/step - loss: 3.9740e-04 - val_loss: 3.2006e-04\n",
            "Epoch 45/100\n",
            "24/24 [==============================] - 0s 15ms/step - loss: 4.2266e-04 - val_loss: 3.3319e-04\n",
            "Epoch 46/100\n",
            "24/24 [==============================] - 0s 15ms/step - loss: 3.6712e-04 - val_loss: 2.8654e-04\n",
            "Epoch 47/100\n",
            "24/24 [==============================] - 0s 15ms/step - loss: 4.0764e-04 - val_loss: 3.3112e-04\n",
            "Epoch 48/100\n",
            "24/24 [==============================] - 0s 15ms/step - loss: 3.5352e-04 - val_loss: 2.7708e-04\n",
            "Epoch 49/100\n",
            "24/24 [==============================] - 0s 15ms/step - loss: 3.2929e-04 - val_loss: 3.1652e-04\n",
            "Epoch 50/100\n",
            "24/24 [==============================] - 0s 15ms/step - loss: 3.3607e-04 - val_loss: 2.4581e-04\n",
            "Epoch 51/100\n",
            "24/24 [==============================] - 0s 16ms/step - loss: 3.1490e-04 - val_loss: 2.3066e-04\n",
            "Epoch 52/100\n",
            "24/24 [==============================] - 0s 15ms/step - loss: 3.1961e-04 - val_loss: 2.0351e-04\n",
            "Epoch 53/100\n",
            "24/24 [==============================] - 0s 16ms/step - loss: 3.0860e-04 - val_loss: 2.0363e-04\n",
            "Epoch 54/100\n",
            "24/24 [==============================] - 0s 15ms/step - loss: 3.8320e-04 - val_loss: 2.6292e-04\n",
            "Epoch 55/100\n",
            "24/24 [==============================] - 0s 15ms/step - loss: 3.1493e-04 - val_loss: 3.3779e-04\n",
            "Epoch 56/100\n",
            "24/24 [==============================] - 0s 16ms/step - loss: 3.0364e-04 - val_loss: 1.9442e-04\n",
            "Epoch 57/100\n",
            "24/24 [==============================] - 0s 15ms/step - loss: 3.0150e-04 - val_loss: 1.9070e-04\n",
            "Epoch 58/100\n",
            "24/24 [==============================] - 0s 15ms/step - loss: 3.4736e-04 - val_loss: 2.2205e-04\n",
            "Epoch 59/100\n",
            "24/24 [==============================] - 0s 15ms/step - loss: 2.8693e-04 - val_loss: 2.1136e-04\n",
            "Epoch 60/100\n",
            "24/24 [==============================] - 0s 15ms/step - loss: 2.8810e-04 - val_loss: 1.8015e-04\n",
            "Epoch 61/100\n",
            "24/24 [==============================] - 0s 15ms/step - loss: 2.6159e-04 - val_loss: 1.7453e-04\n",
            "Epoch 62/100\n",
            "24/24 [==============================] - 0s 15ms/step - loss: 2.7556e-04 - val_loss: 2.0280e-04\n",
            "Epoch 63/100\n",
            "24/24 [==============================] - 0s 17ms/step - loss: 2.6742e-04 - val_loss: 1.7098e-04\n",
            "Epoch 64/100\n",
            "24/24 [==============================] - 0s 15ms/step - loss: 2.6374e-04 - val_loss: 2.5531e-04\n",
            "Epoch 65/100\n",
            "24/24 [==============================] - 0s 15ms/step - loss: 2.7246e-04 - val_loss: 2.2056e-04\n",
            "Epoch 66/100\n",
            "24/24 [==============================] - 0s 15ms/step - loss: 2.6169e-04 - val_loss: 1.7170e-04\n",
            "Epoch 67/100\n",
            "24/24 [==============================] - 0s 15ms/step - loss: 2.4737e-04 - val_loss: 1.6672e-04\n",
            "Epoch 68/100\n",
            "24/24 [==============================] - 0s 15ms/step - loss: 2.7451e-04 - val_loss: 1.5675e-04\n",
            "Epoch 69/100\n",
            "24/24 [==============================] - 0s 15ms/step - loss: 3.0994e-04 - val_loss: 1.6197e-04\n",
            "Epoch 70/100\n",
            "24/24 [==============================] - 0s 15ms/step - loss: 2.8117e-04 - val_loss: 1.5304e-04\n",
            "Epoch 71/100\n",
            "24/24 [==============================] - 0s 15ms/step - loss: 2.4821e-04 - val_loss: 1.7930e-04\n",
            "Epoch 72/100\n",
            "24/24 [==============================] - 0s 15ms/step - loss: 2.2645e-04 - val_loss: 1.5692e-04\n",
            "Epoch 73/100\n",
            "24/24 [==============================] - 0s 16ms/step - loss: 2.5321e-04 - val_loss: 1.8897e-04\n",
            "Epoch 74/100\n",
            "24/24 [==============================] - 0s 15ms/step - loss: 2.1516e-04 - val_loss: 1.4510e-04\n",
            "Epoch 75/100\n",
            "24/24 [==============================] - 0s 15ms/step - loss: 2.2751e-04 - val_loss: 1.5950e-04\n",
            "Epoch 76/100\n",
            "24/24 [==============================] - 0s 15ms/step - loss: 2.2268e-04 - val_loss: 1.4981e-04\n",
            "Epoch 77/100\n",
            "24/24 [==============================] - 0s 16ms/step - loss: 2.0759e-04 - val_loss: 1.5137e-04\n",
            "Epoch 78/100\n",
            "24/24 [==============================] - 0s 16ms/step - loss: 2.1686e-04 - val_loss: 1.4257e-04\n",
            "Epoch 79/100\n",
            "24/24 [==============================] - 0s 17ms/step - loss: 2.1504e-04 - val_loss: 1.3642e-04\n",
            "Epoch 80/100\n",
            "24/24 [==============================] - 0s 16ms/step - loss: 2.6394e-04 - val_loss: 1.3531e-04\n",
            "Epoch 81/100\n",
            "24/24 [==============================] - 0s 15ms/step - loss: 2.3098e-04 - val_loss: 1.5497e-04\n",
            "Epoch 82/100\n",
            "24/24 [==============================] - 0s 15ms/step - loss: 2.4313e-04 - val_loss: 1.3470e-04\n",
            "Epoch 83/100\n",
            "24/24 [==============================] - 0s 15ms/step - loss: 2.1754e-04 - val_loss: 1.3454e-04\n",
            "Epoch 84/100\n",
            "24/24 [==============================] - 0s 15ms/step - loss: 2.0792e-04 - val_loss: 1.3890e-04\n",
            "Epoch 85/100\n",
            "24/24 [==============================] - 0s 18ms/step - loss: 2.0256e-04 - val_loss: 1.2980e-04\n",
            "Epoch 86/100\n",
            "24/24 [==============================] - 0s 15ms/step - loss: 2.0710e-04 - val_loss: 1.2927e-04\n",
            "Epoch 87/100\n",
            "24/24 [==============================] - 0s 15ms/step - loss: 2.4503e-04 - val_loss: 1.3257e-04\n",
            "Epoch 88/100\n",
            "24/24 [==============================] - 0s 16ms/step - loss: 2.2846e-04 - val_loss: 1.4924e-04\n",
            "Epoch 89/100\n",
            "24/24 [==============================] - 0s 15ms/step - loss: 2.1368e-04 - val_loss: 1.2854e-04\n",
            "Epoch 90/100\n",
            "24/24 [==============================] - 0s 15ms/step - loss: 1.9936e-04 - val_loss: 1.3146e-04\n",
            "Epoch 91/100\n",
            "24/24 [==============================] - 0s 15ms/step - loss: 2.0796e-04 - val_loss: 1.3113e-04\n",
            "Epoch 92/100\n",
            "24/24 [==============================] - 0s 15ms/step - loss: 2.1867e-04 - val_loss: 1.2720e-04\n",
            "Epoch 93/100\n",
            "24/24 [==============================] - 0s 16ms/step - loss: 2.0011e-04 - val_loss: 1.2423e-04\n",
            "Epoch 94/100\n",
            "24/24 [==============================] - 0s 15ms/step - loss: 1.9256e-04 - val_loss: 1.3490e-04\n",
            "Epoch 95/100\n",
            "24/24 [==============================] - 0s 15ms/step - loss: 2.1155e-04 - val_loss: 1.3090e-04\n",
            "Epoch 96/100\n",
            "24/24 [==============================] - 0s 16ms/step - loss: 2.5463e-04 - val_loss: 1.3571e-04\n",
            "Epoch 97/100\n",
            "24/24 [==============================] - 0s 15ms/step - loss: 2.2117e-04 - val_loss: 1.3119e-04\n",
            "Epoch 98/100\n",
            "24/24 [==============================] - 0s 15ms/step - loss: 2.0155e-04 - val_loss: 1.2482e-04\n",
            "Epoch 99/100\n",
            "24/24 [==============================] - 0s 15ms/step - loss: 1.9512e-04 - val_loss: 1.1932e-04\n",
            "Epoch 100/100\n",
            "24/24 [==============================] - 0s 15ms/step - loss: 1.9712e-04 - val_loss: 1.1875e-04\n"
          ]
        },
        {
          "output_type": "execute_result",
          "data": {
            "text/plain": [
              "<keras.callbacks.History at 0x7fbd813ae490>"
            ]
          },
          "metadata": {},
          "execution_count": 158
        }
      ]
    },
    {
      "cell_type": "markdown",
      "source": [
        "# Prediction for Training and Testing Set"
      ],
      "metadata": {
        "id": "zI-v-BisKLT2"
      }
    },
    {
      "cell_type": "code",
      "source": [
        "# Predictions for Training and Testing Set (array)\n",
        "train_pred = scaler.inverse_transform(model.predict(X_train))\n",
        "test_pred = scaler.inverse_transform(model.predict(X_test))"
      ],
      "metadata": {
        "id": "Royr954mJjuy"
      },
      "execution_count": 159,
      "outputs": []
    },
    {
      "cell_type": "markdown",
      "source": [
        "# Check RMSE for the predictions"
      ],
      "metadata": {
        "id": "fezta2MaKiXx"
      }
    },
    {
      "cell_type": "code",
      "source": [
        "from sklearn.metrics import mean_squared_error\n",
        "RSME_train = math.sqrt(mean_squared_error(y_train, train_pred))\n",
        "RSME_test = math.sqrt(mean_squared_error(y_test, test_pred))\n",
        "print(\"RSME for training set is:\",RSME_train)\n",
        "print(\"RSME for testing set is:\",RSME_test)"
      ],
      "metadata": {
        "colab": {
          "base_uri": "https://localhost:8080/"
        },
        "id": "oDgPUGUoKVLE",
        "outputId": "aeda9848-6300-4c9b-8438-e32dffe5e9e8"
      },
      "execution_count": 160,
      "outputs": [
        {
          "output_type": "stream",
          "name": "stdout",
          "text": [
            "RSME for training set is: 159.98020816228632\n",
            "RSME for testing set is: 106.61786747883144\n"
          ]
        }
      ]
    },
    {
      "cell_type": "markdown",
      "source": [
        "# Visualizing Predictions"
      ],
      "metadata": {
        "id": "rKC4mBUuKniW"
      }
    },
    {
      "cell_type": "code",
      "source": [
        "len(df)"
      ],
      "metadata": {
        "colab": {
          "base_uri": "https://localhost:8080/"
        },
        "id": "LPNwW0IrWEPM",
        "outputId": "093581b0-db9e-4308-bd80-305340faf326"
      },
      "execution_count": 161,
      "outputs": [
        {
          "output_type": "execute_result",
          "data": {
            "text/plain": [
              "2035"
            ]
          },
          "metadata": {},
          "execution_count": 161
        }
      ]
    },
    {
      "cell_type": "code",
      "source": [
        "look_back = 100\n",
        "\n",
        "# defining Train predictions\n",
        "train_pred_plot = np.empty_like(df)\n",
        "train_pred_plot[:, :] = np.nan\n",
        "train_pred_plot[look_back:len(train_pred) + look_back, :] = train_pred\n",
        "\n",
        "# defining Test predictions\n",
        "test_pred_plot = np.empty_like(df)\n",
        "test_pred_plot[:, :] = np.nan\n",
        "test_pred_plot[len(train_pred) + (look_back*2) + 1:len(df) - 1, :] = test_pred\n",
        "\n",
        "# plotting predictions\n",
        "plt.figure(figsize=(14, 7))\n",
        "plt.plot(scaler.inverse_transform(df))\n",
        "plt.plot(train_pred_plot)\n",
        "plt.plot(test_pred_plot)\n",
        "plt.title(\"Train and Test Prediction Plot\")\n",
        "plt.show()"
      ],
      "metadata": {
        "colab": {
          "base_uri": "https://localhost:8080/",
          "height": 444
        },
        "id": "qIeg_yFEK4yr",
        "outputId": "d01918d1-6c59-4950-f7ce-2eb0a69cf50c"
      },
      "execution_count": 162,
      "outputs": [
        {
          "output_type": "display_data",
          "data": {
            "text/plain": [
              "<Figure size 1008x504 with 1 Axes>"
            ],
            "image/png": "[encoded data removed]"
          },
          "metadata": {
            "needs_background": "light"
          }
        }
      ]
    },
    {
      "cell_type": "code",
      "source": [
        "# Reshape temporary output\n",
        "X_input = test_data[307:].reshape(1,-1)\n",
        "temp = list(X_input)\n",
        "temp = temp[0].tolist()\n",
        "temp"
      ],
      "metadata": {
        "colab": {
          "base_uri": "https://localhost:8080/"
        },
        "id": "P33UHhlRQSt0",
        "outputId": "88a5beb2-bc0d-4959-dff7-e8660d766e5a"
      },
      "execution_count": 163,
      "outputs": [
        {
          "output_type": "execute_result",
          "data": {
            "text/plain": [
              "[0.12479575163398693,\n",
              " 0.1384803921568627,\n",
              " 0.14011437908496732,\n",
              " 0.1388888888888889,\n",
              " 0.13541666666666663,\n",
              " 0.14011437908496732,\n",
              " 0.13807189542483655,\n",
              " 0.130718954248366,\n",
              " 0.130718954248366,\n",
              " 0.12867647058823528,\n",
              " 0.11846405228758167,\n",
              " 0.14644607843137253,\n",
              " 0.1480800653594771,\n",
              " 0.159109477124183,\n",
              " 0.15992647058823523,\n",
              " 0.1578839869281045,\n",
              " 0.16441993464052285,\n",
              " 0.178921568627451,\n",
              " 0.17933006535947704,\n",
              " 0.19260620915032678,\n",
              " 0.2081290849673203,\n",
              " 0.18974673202614378,\n",
              " 0.18055555555555558,\n",
              " 0.1823937908496731,\n",
              " 0.17708333333333326,\n",
              " 0.17810457516339862,\n",
              " 0.18055555555555558,\n",
              " 0.17810457516339862,\n",
              " 0.17851307189542487,\n",
              " 0.196078431372549,\n",
              " 0.18913398692810457,\n",
              " 0.1895424836601307,\n",
              " 0.19403594771241828,\n",
              " 0.19444444444444442,\n",
              " 0.20200163398692816,\n",
              " 0.19771241830065356,\n",
              " 0.19934640522875813,\n",
              " 0.19873366013071891,\n",
              " 0.19975490196078427,\n",
              " 0.21282679738562094,\n",
              " 0.21568627450980393,\n",
              " 0.2044526143790849,\n",
              " 0.21772875816993464,\n",
              " 0.21098856209150318,\n",
              " 0.21425653594771243,\n",
              " 0.1975081699346406,\n",
              " 0.1881127450980392,\n",
              " 0.17851307189542487,\n",
              " 0.17381535947712412,\n",
              " 0.16033496732026142,\n",
              " 0.16564542483660127,\n",
              " 0.1711601307189542,\n",
              " 0.17422385620915026,\n",
              " 0.1803513071895424,\n",
              " 0.1740196078431372,\n",
              " 0.16278594771241828,\n",
              " 0.1697303921568627,\n",
              " 0.17810457516339862,\n",
              " 0.1703431372549019,\n",
              " 0.16830065359477125,\n",
              " 0.17279411764705876,\n",
              " 0.1754493464052288,\n",
              " 0.18382352941176472,\n",
              " 0.19138071895424835,\n",
              " 0.18913398692810457,\n",
              " 0.1909722222222222,\n",
              " 0.17238562091503273,\n",
              " 0.16830065359477125,\n",
              " 0.16932189542483655,\n",
              " 0.1717728758169934,\n",
              " 0.16156045751633985,\n",
              " 0.14971405228758167,\n",
              " 0.15032679738562088,\n",
              " 0.1519607843137255,\n",
              " 0.1472630718954248,\n",
              " 0.14501633986928103,\n",
              " 0.14603758169934639,\n",
              " 0.12479575163398693,\n",
              " 0.13112745098039214,\n",
              " 0.11397058823529405,\n",
              " 0.11907679738562088,\n",
              " 0.12377450980392157,\n",
              " 0.13562091503267976,\n",
              " 0.12908496732026142,\n",
              " 0.1345996732026144,\n",
              " 0.12806372549019607,\n",
              " 0.13031045751633985,\n",
              " 0.12724673202614373,\n",
              " 0.13521241830065356,\n",
              " 0.1452205882352941,\n",
              " 0.15257352941176466,\n",
              " 0.14848856209150324,\n",
              " 0.14338235294117646,\n",
              " 0.14562908496732024,\n",
              " 0.1523692810457516,\n",
              " 0.15400326797385622,\n",
              " 0.14971405228758167,\n",
              " 0.16217320261437906,\n",
              " 0.16319444444444448,\n",
              " 0.16584967320261434]"
            ]
          },
          "metadata": {},
          "execution_count": 163
        }
      ]
    },
    {
      "cell_type": "markdown",
      "source": [
        "# Generate Prediction for next 30 days"
      ],
      "metadata": {
        "id": "bXtdWVcVRa7X"
      }
    },
    {
      "cell_type": "code",
      "source": [
        "# initialize next predictions as a list\n",
        "next30_Pred = []\n",
        "num_steps=100\n",
        "i = 0\n",
        "while (i < 30):\n",
        "    if(len(temp) > 100):\n",
        "        X_input = np.array(temp[1:])\n",
        "        X_input = X_input.reshape(1,-1)\n",
        "        X_input = X_input.reshape((1, num_steps, 1))\n",
        "        yhat = model.predict(X_input, verbose = 0)\n",
        "        temp.extend(yhat[0].tolist())\n",
        "        temp = temp[1:]\n",
        "        next30_Pred.extend(yhat.tolist())\n",
        "        i = i + 1\n",
        "    else:\n",
        "        X_input = X_input.reshape((1, num_steps, 1))\n",
        "        yhat = model.predict(X_input, verbose = 0)\n",
        "        print(yhat[0])\n",
        "        temp.extend(yhat[0].tolist())\n",
        "        print(len(temp))\n",
        "        next30_Pred.extend(yhat.tolist())\n",
        "        i = i + 1\n",
        "\n",
        "print(\"Next 30 days Closing Price Generated\")"
      ],
      "metadata": {
        "colab": {
          "base_uri": "https://localhost:8080/"
        },
        "id": "WLNKeg6_RUhK",
        "outputId": "c9de24de-c4b3-40b2-edae-85ab293dff50"
      },
      "execution_count": 164,
      "outputs": [
        {
          "output_type": "stream",
          "name": "stdout",
          "text": [
            "[0.16421694]\n",
            "101\n",
            "Next 30 days Closing Price Generated\n"
          ]
        }
      ]
    },
    {
      "cell_type": "markdown",
      "source": [
        "# Next 30 days Prediction Visualization"
      ],
      "metadata": {
        "id": "T8zCdSR2SB-l"
      }
    },
    {
      "cell_type": "code",
      "source": [
        "new_day = np.arange(1, 101)\n",
        "pred_day = np.arange(101, 131)"
      ],
      "metadata": {
        "id": "4v-SfBXkSLr5"
      },
      "execution_count": 165,
      "outputs": []
    },
    {
      "cell_type": "code",
      "source": [
        "plt.figure(figsize=(14, 7))\n",
        "plt.plot(new_day, scaler.inverse_transform(df[1935:]))\n",
        "plt.plot(pred_day, scaler.inverse_transform(next30_Pred))\n",
        "plt.show()"
      ],
      "metadata": {
        "colab": {
          "base_uri": "https://localhost:8080/",
          "height": 428
        },
        "id": "ofvucuZLSNCb",
        "outputId": "9fb144d2-35c9-48e1-ae13-8891b4e2df25"
      },
      "execution_count": 166,
      "outputs": [
        {
          "output_type": "display_data",
          "data": {
            "text/plain": [
              "<Figure size 1008x504 with 1 Axes>"
            ],
            "image/png": "[encoded data removed]"
          },
          "metadata": {
            "needs_background": "light"
          }
        }
      ]
    },
    {
      "cell_type": "code",
      "source": [
        "df = df.tolist()\n",
        "df.extend(next30_Pred)"
      ],
      "metadata": {
        "id": "Jng577lySYez"
      },
      "execution_count": 167,
      "outputs": []
    },
    {
      "cell_type": "code",
      "source": [
        "plt.figure(figsize=(14, 7))\n",
        "plt.plot(df[1600:])\n",
        "plt.show()"
      ],
      "metadata": {
        "colab": {
          "base_uri": "https://localhost:8080/",
          "height": 428
        },
        "id": "Ut9TM6bnSdd7",
        "outputId": "f44f975b-741f-4ec0-8c9f-0efcf60621c7"
      },
      "execution_count": 168,
      "outputs": [
        {
          "output_type": "display_data",
          "data": {
            "text/plain": [
              "<Figure size 1008x504 with 1 Axes>"
            ],
            "image/png": "[encoded data removed]"
          },
          "metadata": {
            "needs_background": "light"
          }
        }
      ]
    },
    {
      "cell_type": "markdown",
      "source": [
        "<b># Conclusion:<br>\n",
        "1. LSTM (long short-term memory) deep learning model is an useful model for Stock Market Prediction.<br>\n",
        "2. The accuracy of LSTM model depends upon three factors: batch size, epoch and learning rate.</b>"
      ],
      "metadata": {
        "id": "uNBJJuX3b9FJ"
      }
    }
  ]
}